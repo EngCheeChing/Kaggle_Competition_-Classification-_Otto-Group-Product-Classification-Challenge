{
 "cells": [
  {
   "cell_type": "code",
   "execution_count": null,
   "metadata": {},
   "outputs": [],
   "source": [
    "import pandas as pd\n",
    "import numpy as np\n",
    "import plotly.plotly as py\n",
    "import plotly.graph_objs as go\n",
    "from plotly.offline import iplot, init_notebook_mode\n",
    "import matplotlib.pyplot as plt\n",
    "import seaborn as sns\n",
    "import cufflinks\n",
    "cufflinks.go_offline(connected=True)\n",
    "init_notebook_mode(connected=True)\n",
    "from sklearn.model_selection import cross_val_score\n",
    "pd.set_option('display.max_row', 100)\n",
    "pd.set_option('display.max_column', 150)\n",
    "\n",
    "import warnings\n",
    "warnings.filterwarnings('ignore')"
   ]
  },
  {
   "cell_type": "code",
   "execution_count": null,
   "metadata": {},
   "outputs": [],
   "source": [
    "train_x = pd.read_csv(\"train_x.csv\")\n",
    "test_x = pd.read_csv(\"test_x.csv\")\n",
    "train_x_log = pd.read_csv(\"train_x_log.csv\")\n",
    "test_x_log = pd.read_csv(\"test_x_log.csv\")\n",
    "train_x_eng_with_KNN_TSNE_KMean = pd.read_csv(\"train_x_eng_with_KNN_TSNE_KMean.csv\")\n",
    "test_x_eng_with_KNN_TSNE_Kmean = pd.read_csv(\"test_x_eng_with_KNN_TSNE_Kmean.csv\")\n",
    "train_x_log_eng_with_KNN_TSNE_KMean = pd.read_csv(\"train_x_log_eng_with_KNN_TSNE_KMean.csv\")\n",
    "test_x_log_eng_with_KNN_TSNE_Kmean = pd.read_csv(\"test_x_log_eng_with_KNN_TSNE_Kmean.csv\")\n",
    "train_y_class = pd.read_csv(\"train_y_class.csv\")\n",
    "train_y_label = pd.read_csv(\"train_y_label.csv\")\n",
    "\n",
    "Submission = pd.read_csv(\"sampleSubmission.csv\")"
   ]
  },
  {
   "cell_type": "code",
   "execution_count": null,
   "metadata": {},
   "outputs": [],
   "source": [
    "# Total dataset features to consider\n",
    "print(train_x.shape)\n",
    "print(test_x.shape)\n",
    "print(train_x_log.shape)\n",
    "print(test_x_log.shape)\n",
    "print(train_x_eng_with_KNN_TSNE_KMean.shape)\n",
    "print(test_x_eng_with_KNN_TSNE_Kmean.shape)\n",
    "print(train_x_log_eng_with_KNN_TSNE_KMean.shape)\n",
    "print(test_x_log_eng_with_KNN_TSNE_Kmean.shape)\n",
    "\n",
    "# Label dataset\n",
    "print(train_y_class.shape)\n",
    "print(train_y_label.shape)"
   ]
  },
  {
   "cell_type": "code",
   "execution_count": null,
   "metadata": {},
   "outputs": [],
   "source": [
    "from sklearn.preprocessing import StandardScaler\n",
    "train_score_scaler = StandardScaler()\n",
    "test_score_scaler = StandardScaler()\n",
    "train_x_normalized = pd.DataFrame(train_score_scaler.fit_transform(train_x),columns = train_x.columns)\n",
    "test_x_normalized = pd.DataFrame(test_score_scaler.fit_transform(test_x),columns = test_x.columns)\n",
    "train_x_log_normalized = pd.DataFrame(train_score_scaler.fit_transform(train_x_log),columns = train_x_log.columns)\n",
    "test_x_log_normalized = pd.DataFrame(test_score_scaler.fit_transform(test_x_log),columns = test_x_log.columns)\n",
    "train_x_eng_with_KNN_TSNE_KMean_normalized = pd.DataFrame(train_score_scaler.fit_transform(train_x_eng_with_KNN_TSNE_KMean),columns = train_x_eng_with_KNN_TSNE_KMean.columns)\n",
    "test_x_eng_with_KNN_TSNE_Kmean_normalized = pd.DataFrame(test_score_scaler.fit_transform(test_x_eng_with_KNN_TSNE_Kmean),columns = test_x_eng_with_KNN_TSNE_Kmean.columns)\n",
    "train_x_log_eng_with_KNN_TSNE_KMean_normalized = pd.DataFrame(train_score_scaler.fit_transform(train_x_log_eng_with_KNN_TSNE_KMean),columns = train_x_log_eng_with_KNN_TSNE_KMean.columns)\n",
    "test_x_log_eng_with_KNN_TSNE_Kmean_normalized = pd.DataFrame(test_score_scaler.fit_transform(test_x_log_eng_with_KNN_TSNE_Kmean),columns = test_x_log_eng_with_KNN_TSNE_Kmean.columns)"
   ]
  },
  {
   "cell_type": "code",
   "execution_count": null,
   "metadata": {},
   "outputs": [],
   "source": [
    "# Shuffle training data\n",
    "train_y_class_columns = train_y_class.columns\n",
    "training_data_x = pd.concat([train_x_normalized,train_y_class],axis=1)\n",
    "training_data_x = training_data_x.sample(frac=1)\n",
    "training_data_x_log = pd.concat([train_x_log_normalized,train_y_class],axis=1)\n",
    "training_data_x_log = training_data_x_log.sample(frac=1)\n",
    "training_data_x_eng = pd.concat([train_x_eng_with_KNN_TSNE_KMean_normalized,train_y_class],axis=1)\n",
    "training_data_x_eng = training_data_x_eng.sample(frac=1)\n",
    "training_data_x_log_eng = pd.concat([train_x_log_eng_with_KNN_TSNE_KMean_normalized,train_y_class],axis=1)\n",
    "training_data_x_log_eng = training_data_x_log_eng.sample(frac=1)"
   ]
  },
  {
   "cell_type": "code",
   "execution_count": null,
   "metadata": {},
   "outputs": [],
   "source": [
    "train_x_normalized = training_data_x.drop(train_y_class_columns,axis=1)\n",
    "train_y_class_x = training_data_x[train_y_class_columns]\n",
    "train_x_log_normalized = training_data_x_log.drop(train_y_class_columns,axis=1)\n",
    "train_y_class_x_log = training_data_x_log[train_y_class_columns]\n",
    "train_x_eng_with_KNN_TSNE_KMean_normalized = training_data_x_eng.drop(train_y_class_columns,axis=1)\n",
    "train_y_class_x_eng = training_data_x_eng[train_y_class_columns]\n",
    "train_x_log_eng_with_KNN_TSNE_KMean_normalized = training_data_x_log_eng.drop(train_y_class_columns,axis=1)\n",
    "train_y_class_x_log_eng = training_data_x_log_eng[train_y_class_columns]\n"
   ]
  },
  {
   "cell_type": "code",
   "execution_count": null,
   "metadata": {},
   "outputs": [],
   "source": [
    "# Total dataset features to consider\n",
    "print(train_x_normalized.shape)\n",
    "print(test_x_normalized.shape)\n",
    "print(train_x_log_normalized.shape)\n",
    "print(test_x_log_normalized.shape)\n",
    "print(train_x_eng_with_KNN_TSNE_KMean_normalized.shape)\n",
    "print(test_x_eng_with_KNN_TSNE_Kmean_normalized.shape)\n",
    "print(train_x_log_eng_with_KNN_TSNE_KMean_normalized.shape)\n",
    "print(test_x_log_eng_with_KNN_TSNE_Kmean_normalized.shape)\n",
    "\n",
    "# Label dataset\n",
    "print(train_y_class_x.shape)\n",
    "print(train_y_class_x_log.shape)\n",
    "print(train_y_class_x_eng.shape)\n",
    "print(train_y_class_x_log_eng.shape)\n"
   ]
  },
  {
   "cell_type": "markdown",
   "metadata": {},
   "source": [
    "# Neural Network"
   ]
  },
  {
   "cell_type": "code",
   "execution_count": null,
   "metadata": {},
   "outputs": [],
   "source": [
    "import keras\n",
    "from keras.models import Sequential\n",
    "from keras.layers import Dense\n",
    "from keras.layers import Dropout\n",
    "from keras.layers import Activation\n",
    "from keras import regularizers\n",
    "from keras.layers.normalization import BatchNormalization\n",
    "from keras.callbacks import EarlyStopping\n",
    "import tensorflow as tf\n",
    "print(keras.__version__)\n",
    "print(tf.__version__)"
   ]
  },
  {
   "cell_type": "code",
   "execution_count": null,
   "metadata": {},
   "outputs": [],
   "source": [
    "# Another method to reset the model weights\n",
    "# model.save_weights('model_reset_weights.h5')\n",
    "# model.load_weights('model_reset_weights.h5')\n",
    "\n",
    "# Regularization layer\n",
    "# model.add(Dense(int(number_of_neurons), activation = 'relu', kernel_regularizer=regularizers.l2(0.001)))\n",
    "# model.add(Dropout(0.5))"
   ]
  },
  {
   "cell_type": "markdown",
   "metadata": {},
   "source": [
    "## To have reproducible result with keras"
   ]
  },
  {
   "cell_type": "code",
   "execution_count": null,
   "metadata": {},
   "outputs": [],
   "source": [
    "# Seed value\n",
    "# Apparently you may use different seed values at each stage\n",
    "seed_value= 0\n",
    "\n",
    "# 1. Set `PYTHONHASHSEED` environment variable at a fixed value\n",
    "import os\n",
    "os.environ['PYTHONHASHSEED']=str(seed_value)\n",
    "\n",
    "# 2. Set `python` built-in pseudo-random generator at a fixed value\n",
    "import random\n",
    "random.seed(seed_value)\n",
    "\n",
    "# 3. Set `numpy` pseudo-random generator at a fixed value\n",
    "import numpy as np\n",
    "np.random.seed(seed_value)\n",
    "\n",
    "# 4. Set `tensorflow` pseudo-random generator at a fixed value\n",
    "import tensorflow as tf\n",
    "tf.set_random_seed(seed_value)\n",
    "\n",
    "# 5. Configure a new global `tensorflow` session\n",
    "from keras import backend\n",
    "session_conf = tf.ConfigProto(intra_op_parallelism_threads=1, inter_op_parallelism_threads=1)\n",
    "sess = tf.Session(graph=tf.get_default_graph(), config=session_conf)\n",
    "backend.set_session(sess)"
   ]
  },
  {
   "cell_type": "markdown",
   "metadata": {},
   "source": [
    "# Reset_Model trained Weights"
   ]
  },
  {
   "cell_type": "code",
   "execution_count": null,
   "metadata": {},
   "outputs": [],
   "source": [
    "def reset_weights(model):\n",
    "    session = backend.get_session()\n",
    "    for layer in model.layers: \n",
    "        if hasattr(layer, 'kernel_initializer'):\n",
    "            layer.kernel.initializer.run(session=session)"
   ]
  },
  {
   "cell_type": "code",
   "execution_count": null,
   "metadata": {},
   "outputs": [],
   "source": [
    "reset_weights(model)"
   ]
  },
  {
   "cell_type": "code",
   "execution_count": null,
   "metadata": {},
   "outputs": [],
   "source": [
    "tf.keras.backend.clear_session()"
   ]
  },
  {
   "cell_type": "markdown",
   "metadata": {},
   "source": [
    "# 1. Neural Network with train_x, train_y_class"
   ]
  },
  {
   "cell_type": "code",
   "execution_count": null,
   "metadata": {},
   "outputs": [],
   "source": [
    "# define model\n",
    "model = Sequential()\n",
    "model.add(Dense(units=256,activation = \"relu\", input_dim=93))\n",
    "model.add(BatchNormalization())\n",
    "model.add(Dense(units=128,activation = \"relu\"))\n",
    "model.add(BatchNormalization())\n",
    "model.add(Dense(units=64,activation = \"relu\"))\n",
    "model.add(BatchNormalization())\n",
    "model.add(Dense(units=32,activation = \"relu\"))\n",
    "model.add(BatchNormalization())\n",
    "model.add(Dense(9, activation = \"softmax\"))"
   ]
  },
  {
   "cell_type": "code",
   "execution_count": null,
   "metadata": {},
   "outputs": [],
   "source": [
    "adam = keras.optimizers.Adam(lr=0.01, beta_1=0.9, beta_2=0.999, amsgrad=False, decay = 0.001)\n",
    "early_stop = EarlyStopping(monitor='val_loss', mode='min', verbose=1,patience=100,baseline=None)\n",
    "model.compile(optimizer=adam, loss='categorical_crossentropy') #loss = loss function\n",
    "print(backend.eval(model.optimizer.lr)) # print model learning rate"
   ]
  },
  {
   "cell_type": "code",
   "execution_count": null,
   "metadata": {},
   "outputs": [],
   "source": [
    "model.fit(train_x_normalized,train_y_class_x,\n",
    "          batch_size=(int(train_x.shape[0]*0.2)),\n",
    "          epochs=5000,verbose=1, callbacks=[early_stop])"
   ]
  },
  {
   "cell_type": "markdown",
   "metadata": {},
   "source": [
    "# Visualization"
   ]
  },
  {
   "cell_type": "code",
   "execution_count": null,
   "metadata": {
    "scrolled": true
   },
   "outputs": [],
   "source": [
    "loss_per_epoch = pd.DataFrame(model.history.history)\n",
    "loss_per_epoch.iplot(y=[\"loss\"], title = \"loss_per_epoch\")"
   ]
  },
  {
   "cell_type": "markdown",
   "metadata": {},
   "source": [
    "# Pre-check testing data score with this Neural Network models if ok then proceed to Ensemble model prediction"
   ]
  },
  {
   "cell_type": "code",
   "execution_count": null,
   "metadata": {},
   "outputs": [],
   "source": [
    "Neural_Network_train_x_precheck_score = pd.DataFrame(model.predict(test_x_normalized))"
   ]
  },
  {
   "cell_type": "code",
   "execution_count": null,
   "metadata": {},
   "outputs": [],
   "source": [
    "Submission[['Class_1', 'Class_2', 'Class_3', 'Class_4', 'Class_5', 'Class_6',\n",
    "       'Class_7', 'Class_8', 'Class_9']] = Neural_Network_train_x_precheck_score"
   ]
  },
  {
   "cell_type": "code",
   "execution_count": null,
   "metadata": {},
   "outputs": [],
   "source": [
    "## Creating a Submission File to submit to Kaggle competition ##\n",
    "Submission.to_csv(\"Neural_Network_train_x_precheck_score.csv\",index=False)"
   ]
  },
  {
   "cell_type": "markdown",
   "metadata": {},
   "source": [
    "# train_x Prediction for Ensemble Model"
   ]
  },
  {
   "cell_type": "code",
   "execution_count": null,
   "metadata": {},
   "outputs": [],
   "source": [
    "Neural_Network_train_x_pred = pd.DataFrame(model.predict(train_x_normalized),columns = ['Class_1', 'Class_2', 'Class_3', 'Class_4', 'Class_5', 'Class_6',\n",
    "       'Class_7', 'Class_8', 'Class_9'])"
   ]
  },
  {
   "cell_type": "code",
   "execution_count": null,
   "metadata": {},
   "outputs": [],
   "source": [
    "## Creating a Submission File to submit to Kaggle competition ##\n",
    "Neural_Network_train_x_pred.to_csv(\"Neural_Network_train_x_pred.csv\",index=False)"
   ]
  },
  {
   "cell_type": "markdown",
   "metadata": {},
   "source": [
    "# test_x Prediction for Ensemble Model"
   ]
  },
  {
   "cell_type": "code",
   "execution_count": null,
   "metadata": {},
   "outputs": [],
   "source": [
    "Neural_Network_test_x_pred = pd.DataFrame(model.predict(test_x_normalized))"
   ]
  },
  {
   "cell_type": "code",
   "execution_count": null,
   "metadata": {},
   "outputs": [],
   "source": [
    "Submission[['Class_1', 'Class_2', 'Class_3', 'Class_4', 'Class_5', 'Class_6',\n",
    "       'Class_7', 'Class_8', 'Class_9']] = Neural_Network_test_x_pred"
   ]
  },
  {
   "cell_type": "code",
   "execution_count": null,
   "metadata": {},
   "outputs": [],
   "source": [
    "## Creating a Submission File to submit to Kaggle competition ##\n",
    "Submission.to_csv(\"Neural_Network_test_x_pred.csv\",index=False)"
   ]
  },
  {
   "cell_type": "markdown",
   "metadata": {},
   "source": [
    "# Saving and Loading Models"
   ]
  },
  {
   "cell_type": "code",
   "execution_count": null,
   "metadata": {},
   "outputs": [],
   "source": [
    "model.save('Neural_Network_train_x.h5')"
   ]
  },
  {
   "cell_type": "markdown",
   "metadata": {},
   "source": [
    "## Load a model"
   ]
  },
  {
   "cell_type": "code",
   "execution_count": null,
   "metadata": {},
   "outputs": [],
   "source": [
    "from keras.models import load_model\n",
    "Load_model = load_model('Neural_Network_train_x.h5')"
   ]
  },
  {
   "cell_type": "code",
   "execution_count": null,
   "metadata": {},
   "outputs": [],
   "source": [
    "Load_model.summary()"
   ]
  },
  {
   "cell_type": "code",
   "execution_count": null,
   "metadata": {},
   "outputs": [],
   "source": [
    "Neural_Network_train_x_full_evaluate = pd.DataFrame(Load_model.predict(test_x))"
   ]
  },
  {
   "cell_type": "code",
   "execution_count": null,
   "metadata": {},
   "outputs": [],
   "source": [
    "Submission[['Class_1', 'Class_2', 'Class_3', 'Class_4', 'Class_5', 'Class_6',\n",
    "       'Class_7', 'Class_8', 'Class_9']] = Neural_Network_train_x_full_evaluate"
   ]
  },
  {
   "cell_type": "code",
   "execution_count": null,
   "metadata": {},
   "outputs": [],
   "source": [
    "## Creating a Submission File to submit to Kaggle competition ##\n",
    "Submission.to_csv(\"Neural_Network_train_x_full_evaluate.csv\",index=False)"
   ]
  },
  {
   "cell_type": "markdown",
   "metadata": {},
   "source": [
    "# 2. Neural Network with train_x_log, train_y_class"
   ]
  },
  {
   "cell_type": "code",
   "execution_count": null,
   "metadata": {},
   "outputs": [],
   "source": [
    "# define model\n",
    "model = Sequential()\n",
    "model.add(Dense(units=256,activation = \"relu\", input_dim=93))\n",
    "model.add(BatchNormalization())\n",
    "model.add(Dense(units=128,activation = \"relu\"))\n",
    "model.add(BatchNormalization())\n",
    "model.add(Dense(units=64,activation = \"relu\"))\n",
    "model.add(BatchNormalization())\n",
    "model.add(Dense(units=32,activation = \"relu\"))\n",
    "model.add(BatchNormalization())\n",
    "model.add(Dense(9, activation = \"softmax\"))"
   ]
  },
  {
   "cell_type": "code",
   "execution_count": null,
   "metadata": {},
   "outputs": [],
   "source": [
    "adam = keras.optimizers.Adam(lr=0.01, beta_1=0.9, beta_2=0.999, amsgrad=False, decay = 0.001)\n",
    "early_stop = EarlyStopping(monitor='val_loss', mode='min', verbose=1,patience=100,baseline=None)\n",
    "model.compile(optimizer=adam, loss='categorical_crossentropy') #loss = loss function\n",
    "print(backend.eval(model.optimizer.lr)) # print model learning rate"
   ]
  },
  {
   "cell_type": "code",
   "execution_count": null,
   "metadata": {},
   "outputs": [],
   "source": [
    "model.fit(train_x_log_normalized,train_y_class_x_log,\n",
    "          batch_size=(int(train_x.shape[0]*0.2)),\n",
    "          epochs=5000,verbose=1, callbacks=[early_stop])"
   ]
  },
  {
   "cell_type": "markdown",
   "metadata": {},
   "source": [
    "# Visualization"
   ]
  },
  {
   "cell_type": "code",
   "execution_count": null,
   "metadata": {
    "scrolled": true
   },
   "outputs": [],
   "source": [
    "loss_per_epoch = pd.DataFrame(model.history.history)\n",
    "loss_per_epoch.iplot(y=[\"loss\",\"val_loss\"], title = \"loss_per_epoch\")"
   ]
  },
  {
   "cell_type": "markdown",
   "metadata": {},
   "source": [
    "# Pre-check testing data score with this Neural Network models if ok then proceed to Ensemble model prediction"
   ]
  },
  {
   "cell_type": "code",
   "execution_count": null,
   "metadata": {},
   "outputs": [],
   "source": [
    "Neural_Network_train_x_log_precheck_score = pd.DataFrame(model.predict(test_x_log_normalized))"
   ]
  },
  {
   "cell_type": "code",
   "execution_count": null,
   "metadata": {},
   "outputs": [],
   "source": [
    "Submission[['Class_1', 'Class_2', 'Class_3', 'Class_4', 'Class_5', 'Class_6',\n",
    "       'Class_7', 'Class_8', 'Class_9']] = Neural_Network_train_x_log_precheck_score"
   ]
  },
  {
   "cell_type": "code",
   "execution_count": null,
   "metadata": {},
   "outputs": [],
   "source": [
    "## Creating a Submission File to submit to Kaggle competition ##\n",
    "Submission.to_csv(\"Neural_Network_train_x_log_precheck_score.csv\",index=False)"
   ]
  },
  {
   "cell_type": "markdown",
   "metadata": {},
   "source": [
    "# train_x Prediction for Ensemble Model"
   ]
  },
  {
   "cell_type": "code",
   "execution_count": null,
   "metadata": {},
   "outputs": [],
   "source": [
    "Neural_Network_train_x_log_pred = pd.DataFrame(model.predict(train_x_log_normalized),columns = ['Class_1', 'Class_2', 'Class_3', 'Class_4', 'Class_5', 'Class_6',\n",
    "       'Class_7', 'Class_8', 'Class_9'])"
   ]
  },
  {
   "cell_type": "code",
   "execution_count": null,
   "metadata": {},
   "outputs": [],
   "source": [
    "## Creating a Submission File to submit to Kaggle competition ##\n",
    "Neural_Network_train_x_log_pred.to_csv(\"Neural_Network_train_x_log_pred.csv\",index=False)"
   ]
  },
  {
   "cell_type": "markdown",
   "metadata": {},
   "source": [
    "# test_x Prediction for Ensemble Model"
   ]
  },
  {
   "cell_type": "code",
   "execution_count": null,
   "metadata": {},
   "outputs": [],
   "source": [
    "Neural_Network_test_x_log_pred = pd.DataFrame(model.predict(test_x_log_normalized))"
   ]
  },
  {
   "cell_type": "code",
   "execution_count": null,
   "metadata": {},
   "outputs": [],
   "source": [
    "Submission[['Class_1', 'Class_2', 'Class_3', 'Class_4', 'Class_5', 'Class_6',\n",
    "       'Class_7', 'Class_8', 'Class_9']] = Neural_Network_test_x_log_pred"
   ]
  },
  {
   "cell_type": "code",
   "execution_count": null,
   "metadata": {},
   "outputs": [],
   "source": [
    "## Creating a Submission File to submit to Kaggle competition ##\n",
    "Submission.to_csv(\"Neural_Network_test_x_log_pred.csv\",index=False)"
   ]
  },
  {
   "cell_type": "markdown",
   "metadata": {},
   "source": [
    "# Saving and Loading Models"
   ]
  },
  {
   "cell_type": "code",
   "execution_count": null,
   "metadata": {},
   "outputs": [],
   "source": [
    "model.save('Neural_Network_train_x_log.h5')"
   ]
  },
  {
   "cell_type": "markdown",
   "metadata": {},
   "source": [
    "## Load a model"
   ]
  },
  {
   "cell_type": "code",
   "execution_count": null,
   "metadata": {},
   "outputs": [],
   "source": [
    "from keras.models import load_model\n",
    "Load_model = load_model('Neural_Network_train_x_log.h5')"
   ]
  },
  {
   "cell_type": "code",
   "execution_count": null,
   "metadata": {},
   "outputs": [],
   "source": [
    "Load_model.summary()"
   ]
  },
  {
   "cell_type": "code",
   "execution_count": null,
   "metadata": {},
   "outputs": [],
   "source": [
    "Neural_Network_train_x_log_full_evaluate = pd.DataFrame(Load_model.predict(test_x_log))"
   ]
  },
  {
   "cell_type": "code",
   "execution_count": null,
   "metadata": {},
   "outputs": [],
   "source": [
    "Submission[['Class_1', 'Class_2', 'Class_3', 'Class_4', 'Class_5', 'Class_6',\n",
    "       'Class_7', 'Class_8', 'Class_9']] = Neural_Network_train_x_log_full_evaluate"
   ]
  },
  {
   "cell_type": "code",
   "execution_count": null,
   "metadata": {},
   "outputs": [],
   "source": [
    "## Creating a Submission File to submit to Kaggle competition ##\n",
    "Submission.to_csv(\"Neural_Network_train_x_log_full_evaluate.csv\",index=False)"
   ]
  },
  {
   "cell_type": "markdown",
   "metadata": {},
   "source": [
    "# 3. Neural Network with train_x_eng_with_KNN_TSNE_KMean, train_y_class"
   ]
  },
  {
   "cell_type": "code",
   "execution_count": null,
   "metadata": {},
   "outputs": [],
   "source": [
    "# define model\n",
    "model = Sequential()\n",
    "model.add(Dense(units=256,activation = \"relu\", input_dim=227))\n",
    "model.add(BatchNormalization())\n",
    "model.add(Dense(units=128,activation = \"relu\"))\n",
    "model.add(BatchNormalization())\n",
    "model.add(Dense(units=64,activation = \"relu\"))\n",
    "model.add(BatchNormalization())\n",
    "model.add(Dense(units=32,activation = \"relu\"))\n",
    "model.add(BatchNormalization())\n",
    "model.add(Dense(9, activation = \"softmax\"))"
   ]
  },
  {
   "cell_type": "code",
   "execution_count": null,
   "metadata": {},
   "outputs": [],
   "source": [
    "adam = keras.optimizers.Adam(lr=0.01, beta_1=0.9, beta_2=0.999, amsgrad=False, decay = 0.001)\n",
    "early_stop = EarlyStopping(monitor='val_loss', mode='min', verbose=1,patience=100,baseline=None)\n",
    "model.compile(optimizer=adam, loss='categorical_crossentropy') #loss = loss function\n",
    "print(backend.eval(model.optimizer.lr)) # print model learning rate"
   ]
  },
  {
   "cell_type": "code",
   "execution_count": null,
   "metadata": {},
   "outputs": [],
   "source": [
    "model.fit(train_x_eng_with_KNN_TSNE_KMean_normalized,train_y_class_x_eng,\n",
    "          batch_size=(int(train_x.shape[0]*0.2)),\n",
    "          epochs=5000,verbose=1, callbacks=[early_stop])"
   ]
  },
  {
   "cell_type": "markdown",
   "metadata": {},
   "source": [
    "# Visualization"
   ]
  },
  {
   "cell_type": "code",
   "execution_count": null,
   "metadata": {
    "scrolled": true
   },
   "outputs": [],
   "source": [
    "loss_per_epoch = pd.DataFrame(model.history.history)\n",
    "loss_per_epoch.iplot(y=[\"loss\",\"val_loss\"], yrange=(0,0.5), title = \"loss_per_epoch\")"
   ]
  },
  {
   "cell_type": "markdown",
   "metadata": {},
   "source": [
    "# Pre-check testing data score with this Neural Network models if ok then proceed to Ensemble model prediction"
   ]
  },
  {
   "cell_type": "code",
   "execution_count": null,
   "metadata": {},
   "outputs": [],
   "source": [
    "Neural_Network_train_x_eng_precheck_score = pd.DataFrame(model.predict(test_x_eng_with_KNN_TSNE_Kmean_normalized))"
   ]
  },
  {
   "cell_type": "code",
   "execution_count": null,
   "metadata": {},
   "outputs": [],
   "source": [
    "Submission[['Class_1', 'Class_2', 'Class_3', 'Class_4', 'Class_5', 'Class_6',\n",
    "       'Class_7', 'Class_8', 'Class_9']] = Neural_Network_train_x_eng_precheck_score"
   ]
  },
  {
   "cell_type": "code",
   "execution_count": null,
   "metadata": {},
   "outputs": [],
   "source": [
    "## Creating a Submission File to submit to Kaggle competition ##\n",
    "Submission.to_csv(\"Neural_Network_train_x_eng_precheck_score.csv\",index=False)"
   ]
  },
  {
   "cell_type": "markdown",
   "metadata": {},
   "source": [
    "# train_x Prediction for Ensemble Model"
   ]
  },
  {
   "cell_type": "code",
   "execution_count": null,
   "metadata": {},
   "outputs": [],
   "source": [
    "Neural_Network_train_x_eng_pred = pd.DataFrame(model.predict(Neural_Network_train_x_eng_pred),columns = ['Class_1', 'Class_2', 'Class_3', 'Class_4', 'Class_5', 'Class_6',\n",
    "       'Class_7', 'Class_8', 'Class_9'])"
   ]
  },
  {
   "cell_type": "code",
   "execution_count": null,
   "metadata": {},
   "outputs": [],
   "source": [
    "## Creating a Submission File to submit to Kaggle competition ##\n",
    "Neural_Network_train_x_eng_pred.to_csv(\"Neural_Network_train_x_eng_pred.csv\",index=False)"
   ]
  },
  {
   "cell_type": "markdown",
   "metadata": {},
   "source": [
    "# test_x Prediction for Ensemble Model"
   ]
  },
  {
   "cell_type": "code",
   "execution_count": null,
   "metadata": {},
   "outputs": [],
   "source": [
    "Neural_Network_test_x_eng_pred = pd.DataFrame(model.predict(test_x_eng_with_KNN_TSNE_Kmean_normalized))"
   ]
  },
  {
   "cell_type": "code",
   "execution_count": null,
   "metadata": {},
   "outputs": [],
   "source": [
    "Submission[['Class_1', 'Class_2', 'Class_3', 'Class_4', 'Class_5', 'Class_6',\n",
    "       'Class_7', 'Class_8', 'Class_9']] = Neural_Network_test_x_eng_pred"
   ]
  },
  {
   "cell_type": "code",
   "execution_count": null,
   "metadata": {},
   "outputs": [],
   "source": [
    "## Creating a Submission File to submit to Kaggle competition ##\n",
    "Submission.to_csv(\"Neural_Network_test_x_eng_pred.csv\",index=False)"
   ]
  },
  {
   "cell_type": "markdown",
   "metadata": {},
   "source": [
    "# Saving and Loading Models"
   ]
  },
  {
   "cell_type": "code",
   "execution_count": null,
   "metadata": {},
   "outputs": [],
   "source": [
    "model.save('Neural_Network_train_x_eng.h5')"
   ]
  },
  {
   "cell_type": "markdown",
   "metadata": {},
   "source": [
    "## Load a model"
   ]
  },
  {
   "cell_type": "code",
   "execution_count": null,
   "metadata": {},
   "outputs": [],
   "source": [
    "from keras.models import load_model\n",
    "Load_model = load_model('Neural_Network_train_x_eng.h5')"
   ]
  },
  {
   "cell_type": "code",
   "execution_count": null,
   "metadata": {},
   "outputs": [],
   "source": [
    "Load_model.summary()"
   ]
  },
  {
   "cell_type": "code",
   "execution_count": null,
   "metadata": {},
   "outputs": [],
   "source": [
    "Neural_Network_train_x_eng_full_evaluate = pd.DataFrame(Load_model.predict(test_x_eng_with_KNN_TSNE_Kmean))"
   ]
  },
  {
   "cell_type": "code",
   "execution_count": null,
   "metadata": {},
   "outputs": [],
   "source": [
    "Submission[['Class_1', 'Class_2', 'Class_3', 'Class_4', 'Class_5', 'Class_6',\n",
    "       'Class_7', 'Class_8', 'Class_9']] = Neural_Network_train_x_eng_full_evaluate"
   ]
  },
  {
   "cell_type": "code",
   "execution_count": null,
   "metadata": {},
   "outputs": [],
   "source": [
    "## Creating a Submission File to submit to Kaggle competition ##\n",
    "Submission.to_csv(\"Neural_Network_train_x_eng_full_evaluate.csv\",index=False)"
   ]
  },
  {
   "cell_type": "markdown",
   "metadata": {},
   "source": [
    "# 4. Neural Network with train_x_log_eng_with_KNN_TSNE_KMean, train_y_class"
   ]
  },
  {
   "cell_type": "code",
   "execution_count": null,
   "metadata": {},
   "outputs": [],
   "source": [
    "# define model\n",
    "model = Sequential()\n",
    "model.add(Dense(units=256,activation = \"relu\", input_dim=227))\n",
    "model.add(BatchNormalization())\n",
    "model.add(Dense(units=128,activation = \"relu\"))\n",
    "model.add(BatchNormalization())\n",
    "model.add(Dense(units=64,activation = \"relu\"))\n",
    "model.add(BatchNormalization())\n",
    "model.add(Dense(units=32,activation = \"relu\"))\n",
    "model.add(BatchNormalization())\n",
    "model.add(Dense(9, activation = \"softmax\"))"
   ]
  },
  {
   "cell_type": "code",
   "execution_count": null,
   "metadata": {},
   "outputs": [],
   "source": [
    "adam = keras.optimizers.Adam(lr=0.01, beta_1=0.9, beta_2=0.999, amsgrad=False, decay = 0.001)\n",
    "early_stop = EarlyStopping(monitor='val_loss', mode='min', verbose=1,patience=100,baseline=None)\n",
    "model.compile(optimizer=adam, loss='categorical_crossentropy') #loss = loss function\n",
    "print(backend.eval(model.optimizer.lr)) # print model learning rate"
   ]
  },
  {
   "cell_type": "code",
   "execution_count": null,
   "metadata": {},
   "outputs": [],
   "source": [
    "model.fit(train_x_log_eng_with_KNN_TSNE_KMean_normalized,train_y_class_x_log_eng,\n",
    "          batch_size=(int(train_x.shape[0]*0.2)),\n",
    "          epochs=5000,verbose=1, callbacks=[early_stop])"
   ]
  },
  {
   "cell_type": "markdown",
   "metadata": {},
   "source": [
    "# Visualization"
   ]
  },
  {
   "cell_type": "code",
   "execution_count": null,
   "metadata": {
    "scrolled": true
   },
   "outputs": [],
   "source": [
    "loss_per_epoch = pd.DataFrame(model.history.history)\n",
    "loss_per_epoch.iplot(y=[\"loss\",\"val_loss\"], title = \"loss_per_epoch\")"
   ]
  },
  {
   "cell_type": "markdown",
   "metadata": {},
   "source": [
    "# Pre-check testing data score with this Neural Network models if ok then proceed to Ensemble model prediction"
   ]
  },
  {
   "cell_type": "code",
   "execution_count": null,
   "metadata": {},
   "outputs": [],
   "source": [
    "Neural_Network_train_x_log_eng_precheck_score = pd.DataFrame(model.predict(test_x_log_eng_with_KNN_TSNE_Kmean_normalized))"
   ]
  },
  {
   "cell_type": "code",
   "execution_count": null,
   "metadata": {},
   "outputs": [],
   "source": [
    "Submission[['Class_1', 'Class_2', 'Class_3', 'Class_4', 'Class_5', 'Class_6',\n",
    "       'Class_7', 'Class_8', 'Class_9']] = Neural_Network_train_x_log_eng_precheck_score"
   ]
  },
  {
   "cell_type": "code",
   "execution_count": null,
   "metadata": {},
   "outputs": [],
   "source": [
    "## Creating a Submission File to submit to Kaggle competition ##\n",
    "Submission.to_csv(\"Neural_Network_train_x_log_eng_precheck_score.csv\",index=False)"
   ]
  },
  {
   "cell_type": "markdown",
   "metadata": {},
   "source": [
    "# train_x Prediction for Ensemble Model"
   ]
  },
  {
   "cell_type": "code",
   "execution_count": null,
   "metadata": {},
   "outputs": [],
   "source": [
    "Neural_Network_train_x_log_eng_pred = pd.DataFrame(model.predict(Neural_Network_train_x_log_eng_pred),columns = ['Class_1', 'Class_2', 'Class_3', 'Class_4', 'Class_5', 'Class_6',\n",
    "       'Class_7', 'Class_8', 'Class_9'])"
   ]
  },
  {
   "cell_type": "code",
   "execution_count": null,
   "metadata": {},
   "outputs": [],
   "source": [
    "## Creating a Submission File to submit to Kaggle competition ##\n",
    "Neural_Network_train_x_log_eng_pred.to_csv(\"Neural_Network_train_x_log_eng_pred.csv\",index=False)"
   ]
  },
  {
   "cell_type": "markdown",
   "metadata": {},
   "source": [
    "# test_x Prediction for Ensemble Model"
   ]
  },
  {
   "cell_type": "code",
   "execution_count": null,
   "metadata": {},
   "outputs": [],
   "source": [
    "Neural_Network_test_x_log_eng_pred = pd.DataFrame(model.predict(test_x_log_eng_with_KNN_TSNE_Kmean_normalized))"
   ]
  },
  {
   "cell_type": "code",
   "execution_count": null,
   "metadata": {},
   "outputs": [],
   "source": [
    "Submission[['Class_1', 'Class_2', 'Class_3', 'Class_4', 'Class_5', 'Class_6',\n",
    "       'Class_7', 'Class_8', 'Class_9']] = Neural_Network_test_x_log_eng_pred"
   ]
  },
  {
   "cell_type": "code",
   "execution_count": null,
   "metadata": {},
   "outputs": [],
   "source": [
    "## Creating a Submission File to submit to Kaggle competition ##\n",
    "Submission.to_csv(\"Neural_Network_test_x_log_eng_pred.csv\",index=False)"
   ]
  },
  {
   "cell_type": "markdown",
   "metadata": {},
   "source": [
    "# Saving and Loading Models"
   ]
  },
  {
   "cell_type": "code",
   "execution_count": null,
   "metadata": {},
   "outputs": [],
   "source": [
    "model.save('Neural_Network_train_x_log_eng.h5')"
   ]
  },
  {
   "cell_type": "markdown",
   "metadata": {},
   "source": [
    "## Load a model"
   ]
  },
  {
   "cell_type": "code",
   "execution_count": null,
   "metadata": {},
   "outputs": [],
   "source": [
    "from keras.models import load_model\n",
    "Load_model = load_model('Neural_Network_train_x_log_eng.h5')"
   ]
  },
  {
   "cell_type": "code",
   "execution_count": null,
   "metadata": {},
   "outputs": [],
   "source": [
    "Load_model.summary()"
   ]
  },
  {
   "cell_type": "code",
   "execution_count": null,
   "metadata": {},
   "outputs": [],
   "source": [
    "Neural_Network_train_x_log_eng_full_evaluate = pd.DataFrame(Load_model.predict(test_x_log_eng_with_KNN_TSNE_Kmean))"
   ]
  },
  {
   "cell_type": "code",
   "execution_count": null,
   "metadata": {},
   "outputs": [],
   "source": [
    "Submission[['Class_1', 'Class_2', 'Class_3', 'Class_4', 'Class_5', 'Class_6',\n",
    "       'Class_7', 'Class_8', 'Class_9']] = Neural_Network_train_x_log_eng_full_evaluate"
   ]
  },
  {
   "cell_type": "code",
   "execution_count": null,
   "metadata": {},
   "outputs": [],
   "source": [
    "## Creating a Submission File to submit to Kaggle competition ##\n",
    "Submission.to_csv(\"Neural_Network_train_x_log_eng_full_evaluate.csv\",index=False)"
   ]
  }
 ],
 "metadata": {
  "kernelspec": {
   "display_name": "Python 3",
   "language": "python",
   "name": "python3"
  },
  "language_info": {
   "codemirror_mode": {
    "name": "ipython",
    "version": 3
   },
   "file_extension": ".py",
   "mimetype": "text/x-python",
   "name": "python",
   "nbconvert_exporter": "python",
   "pygments_lexer": "ipython3",
   "version": "3.7.3"
  }
 },
 "nbformat": 4,
 "nbformat_minor": 2
}
