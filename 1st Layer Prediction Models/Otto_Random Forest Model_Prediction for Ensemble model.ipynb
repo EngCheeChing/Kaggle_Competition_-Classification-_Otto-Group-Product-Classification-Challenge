{
 "cells": [
  {
   "cell_type": "code",
   "execution_count": 1,
   "metadata": {},
   "outputs": [
    {
     "data": {
      "text/html": [
       "        <script type=\"text/javascript\">\n",
       "        window.PlotlyConfig = {MathJaxConfig: 'local'};\n",
       "        if (window.MathJax) {MathJax.Hub.Config({SVG: {font: \"STIX-Web\"}});}\n",
       "        if (typeof require !== 'undefined') {\n",
       "        require.undef(\"plotly\");\n",
       "        requirejs.config({\n",
       "            paths: {\n",
       "                'plotly': ['https://cdn.plot.ly/plotly-latest.min']\n",
       "            }\n",
       "        });\n",
       "        require(['plotly'], function(Plotly) {\n",
       "            window._Plotly = Plotly;\n",
       "        });\n",
       "        }\n",
       "        </script>\n",
       "        "
      ]
     },
     "metadata": {},
     "output_type": "display_data"
    },
    {
     "data": {
      "text/html": [
       "        <script type=\"text/javascript\">\n",
       "        window.PlotlyConfig = {MathJaxConfig: 'local'};\n",
       "        if (window.MathJax) {MathJax.Hub.Config({SVG: {font: \"STIX-Web\"}});}\n",
       "        if (typeof require !== 'undefined') {\n",
       "        require.undef(\"plotly\");\n",
       "        requirejs.config({\n",
       "            paths: {\n",
       "                'plotly': ['https://cdn.plot.ly/plotly-latest.min']\n",
       "            }\n",
       "        });\n",
       "        require(['plotly'], function(Plotly) {\n",
       "            window._Plotly = Plotly;\n",
       "        });\n",
       "        }\n",
       "        </script>\n",
       "        "
      ]
     },
     "metadata": {},
     "output_type": "display_data"
    }
   ],
   "source": [
    "import pandas as pd\n",
    "import numpy as np\n",
    "import plotly.plotly as py\n",
    "import plotly.graph_objs as go\n",
    "from plotly.offline import iplot, init_notebook_mode\n",
    "import matplotlib.pyplot as plt\n",
    "import seaborn as sns\n",
    "import cufflinks\n",
    "cufflinks.go_offline(connected=True)\n",
    "init_notebook_mode(connected=True)\n",
    "from sklearn.model_selection import cross_val_score\n",
    "pd.set_option('display.max_row', 100)\n",
    "pd.set_option('display.max_column', 150)\n",
    "\n",
    "import warnings\n",
    "warnings.filterwarnings('ignore')"
   ]
  },
  {
   "cell_type": "markdown",
   "metadata": {},
   "source": [
    "# Import processing dataset"
   ]
  },
  {
   "cell_type": "code",
   "execution_count": 2,
   "metadata": {},
   "outputs": [],
   "source": [
    "train_x = pd.read_csv(\"train_x.csv\")\n",
    "test_x = pd.read_csv(\"test_x.csv\")\n",
    "train_x_log = pd.read_csv(\"train_x_log.csv\")\n",
    "test_x_log = pd.read_csv(\"test_x_log.csv\")\n",
    "train_x_eng_with_KNN_TSNE_KMean = pd.read_csv(\"train_x_eng_with_KNN_TSNE_KMean.csv\")\n",
    "test_x_eng_with_KNN_TSNE_Kmean = pd.read_csv(\"test_x_eng_with_KNN_TSNE_Kmean.csv\")\n",
    "train_x_log_eng_with_KNN_TSNE_KMean = pd.read_csv(\"train_x_log_eng_with_KNN_TSNE_KMean.csv\")\n",
    "test_x_log_eng_with_KNN_TSNE_Kmean = pd.read_csv(\"test_x_log_eng_with_KNN_TSNE_Kmean.csv\")\n",
    "train_y_class = pd.read_csv(\"train_y_class.csv\")\n",
    "train_y_label = pd.read_csv(\"train_y_label.csv\")\n",
    "\n",
    "Submission = pd.read_csv(\"sampleSubmission.csv\")"
   ]
  },
  {
   "cell_type": "code",
   "execution_count": 3,
   "metadata": {},
   "outputs": [
    {
     "name": "stdout",
     "output_type": "stream",
     "text": [
      "(61878, 93)\n",
      "(144368, 93)\n",
      "(61878, 93)\n",
      "(144368, 93)\n",
      "(61878, 227)\n",
      "(144368, 227)\n",
      "(61878, 227)\n",
      "(144368, 227)\n",
      "(61878, 9)\n",
      "(61878, 1)\n"
     ]
    }
   ],
   "source": [
    "# Total dataset features to consider\n",
    "print(train_x.shape)\n",
    "print(test_x.shape)\n",
    "print(train_x_log.shape)\n",
    "print(test_x_log.shape)\n",
    "print(train_x_eng_with_KNN_TSNE_KMean.shape)\n",
    "print(test_x_eng_with_KNN_TSNE_Kmean.shape)\n",
    "print(train_x_log_eng_with_KNN_TSNE_KMean.shape)\n",
    "print(test_x_log_eng_with_KNN_TSNE_Kmean.shape)\n",
    "\n",
    "# Label dataset\n",
    "print(train_y_class.shape)\n",
    "print(train_y_label.shape)"
   ]
  },
  {
   "cell_type": "markdown",
   "metadata": {},
   "source": [
    "# 1. Random Forest Classifier, Grid Search with train_x, train_y_class"
   ]
  },
  {
   "cell_type": "code",
   "execution_count": 4,
   "metadata": {},
   "outputs": [],
   "source": [
    "from sklearn.ensemble import RandomForestClassifier\n",
    "from sklearn.model_selection import cross_val_score\n",
    "from sklearn.model_selection import GridSearchCV"
   ]
  },
  {
   "cell_type": "code",
   "execution_count": 5,
   "metadata": {},
   "outputs": [],
   "source": [
    "hyperparameters = {\"criterion\": [\"gini\"],\n",
    "                   \"max_depth\": [5],   \n",
    "                   \"max_features\": [0.5], \n",
    "                   \"min_samples_split\": [2],\n",
    "                   \"n_estimators\": [100],\n",
    "                   \"random_state\": [0], # Whether to use out-of-bag samples to estimate the generalization accuracy.\n",
    "                  }"
   ]
  },
  {
   "cell_type": "code",
   "execution_count": 6,
   "metadata": {},
   "outputs": [
    {
     "data": {
      "text/plain": [
       "GridSearchCV(cv=4, error_score='raise-deprecating',\n",
       "       estimator=RandomForestClassifier(bootstrap=True, class_weight=None, criterion='gini',\n",
       "            max_depth=None, max_features='auto', max_leaf_nodes=None,\n",
       "            min_impurity_decrease=0.0, min_impurity_split=None,\n",
       "            min_samples_leaf=1, min_samples_split=2,\n",
       "            min_weight_fraction_leaf=0.0, n_estimators='warn', n_jobs=None,\n",
       "            oob_score=False, random_state=None, verbose=0,\n",
       "            warm_start=False),\n",
       "       fit_params=None, iid='warn', n_jobs=None,\n",
       "       param_grid={'criterion': ['gini'], 'max_depth': [5], 'max_features': [0.5], 'min_samples_split': [2], 'n_estimators': [100], 'random_state': [0]},\n",
       "       pre_dispatch='2*n_jobs', refit=True, return_train_score='warn',\n",
       "       scoring=None, verbose=0)"
      ]
     },
     "execution_count": 6,
     "metadata": {},
     "output_type": "execute_result"
    }
   ],
   "source": [
    "cls = RandomForestClassifier()\n",
    "grid = GridSearchCV(cls,param_grid=hyperparameters,cv=4)\n",
    "grid.fit(train_x, train_y_class)"
   ]
  },
  {
   "cell_type": "code",
   "execution_count": 7,
   "metadata": {},
   "outputs": [
    {
     "name": "stdout",
     "output_type": "stream",
     "text": [
      "0.039157697404570285\n",
      "RandomForestClassifier(bootstrap=True, class_weight=None, criterion='gini',\n",
      "            max_depth=5, max_features=0.5, max_leaf_nodes=None,\n",
      "            min_impurity_decrease=0.0, min_impurity_split=None,\n",
      "            min_samples_leaf=1, min_samples_split=2,\n",
      "            min_weight_fraction_leaf=0.0, n_estimators=100, n_jobs=None,\n",
      "            oob_score=False, random_state=0, verbose=0, warm_start=False)\n"
     ]
    }
   ],
   "source": [
    "best_params = grid.best_params_\n",
    "best_score = grid.best_score_\n",
    "best_rf = grid.best_estimator_\n",
    "print(best_score)\n",
    "print(best_rf)"
   ]
  },
  {
   "cell_type": "code",
   "execution_count": 8,
   "metadata": {},
   "outputs": [
    {
     "data": {
      "text/plain": [
       "0.3705517308251721"
      ]
     },
     "execution_count": 8,
     "metadata": {},
     "output_type": "execute_result"
    }
   ],
   "source": [
    "best_rf.score(train_x,train_y_class)"
   ]
  },
  {
   "cell_type": "markdown",
   "metadata": {},
   "source": [
    "# test_x Prediction for Ensemble Model"
   ]
  },
  {
   "cell_type": "code",
   "execution_count": 9,
   "metadata": {},
   "outputs": [],
   "source": [
    "RF_test_x_pred = best_rf.predict_proba(test_x)"
   ]
  },
  {
   "cell_type": "code",
   "execution_count": 10,
   "metadata": {},
   "outputs": [
    {
     "name": "stdout",
     "output_type": "stream",
     "text": [
      "(144368, 9)\n"
     ]
    }
   ],
   "source": [
    "RF_test_x_pred = np.array(RF_test_x_pred)\n",
    "RF_test_x_pred = RF_test_x_pred.reshape((144368,9,2))\n",
    "RF_test_x_pred = RF_test_x_pred[:,:,0]\n",
    "RF_test_x_pred = pd.DataFrame(RF_test_x_pred, columns = [\"RF_test_x_pred_\" + str(i) for i in range(1,10,1)])\n",
    "print(RF_test_x_pred.shape)"
   ]
  },
  {
   "cell_type": "code",
   "execution_count": 11,
   "metadata": {},
   "outputs": [],
   "source": [
    "Submission = pd.read_csv(\"sampleSubmission.csv\")\n",
    "Submission[['Class_1', 'Class_2', 'Class_3', 'Class_4', 'Class_5', 'Class_6',\n",
    "       'Class_7', 'Class_8', 'Class_9']] = RF_test_x_pred"
   ]
  },
  {
   "cell_type": "code",
   "execution_count": 12,
   "metadata": {},
   "outputs": [],
   "source": [
    "## Creating a Submission File to submit to Kaggle competition ##\n",
    "Submission.to_csv(\"RF_test_x_pred.csv\",index=False)"
   ]
  },
  {
   "cell_type": "markdown",
   "metadata": {},
   "source": [
    "# train_x Prediction for Ensemble Model"
   ]
  },
  {
   "cell_type": "code",
   "execution_count": 13,
   "metadata": {},
   "outputs": [],
   "source": [
    "RF_train_x_pred = best_rf.predict_proba(train_x)"
   ]
  },
  {
   "cell_type": "code",
   "execution_count": 14,
   "metadata": {},
   "outputs": [
    {
     "name": "stdout",
     "output_type": "stream",
     "text": [
      "(61878, 9)\n"
     ]
    }
   ],
   "source": [
    "RF_train_x_pred = np.array(RF_train_x_pred)\n",
    "RF_train_x_pred = RF_train_x_pred.reshape((61878,9,2))\n",
    "RF_train_x_pred = RF_train_x_pred[:,:,0]\n",
    "RF_train_x_pred = pd.DataFrame(RF_train_x_pred, columns = [\"RF_train_x_pred_\" + str(i) for i in range(1,10,1)])\n",
    "print(RF_train_x_pred.shape)"
   ]
  },
  {
   "cell_type": "code",
   "execution_count": 15,
   "metadata": {},
   "outputs": [],
   "source": [
    "Submission = pd.read_csv(\"sampleSubmission.csv\")\n",
    "Submission[['Class_1', 'Class_2', 'Class_3', 'Class_4', 'Class_5', 'Class_6',\n",
    "       'Class_7', 'Class_8', 'Class_9']] = RF_train_x_pred"
   ]
  },
  {
   "cell_type": "code",
   "execution_count": 16,
   "metadata": {},
   "outputs": [],
   "source": [
    "## Creating a Submission File to submit to Kaggle competition ##\n",
    "Submission.to_csv(\"RF_train_x_pred.csv\",index=False)"
   ]
  },
  {
   "cell_type": "markdown",
   "metadata": {},
   "source": [
    "# 2. Random Forest Classifier, Grid Search with train_x_log, train_y_class"
   ]
  },
  {
   "cell_type": "code",
   "execution_count": 17,
   "metadata": {},
   "outputs": [],
   "source": [
    "from sklearn.ensemble import RandomForestClassifier\n",
    "from sklearn.model_selection import cross_val_score\n",
    "from sklearn.model_selection import GridSearchCV"
   ]
  },
  {
   "cell_type": "code",
   "execution_count": 18,
   "metadata": {},
   "outputs": [],
   "source": [
    "hyperparameters = {\"criterion\": [\"gini\"],\n",
    "                   \"max_depth\": [5],   \n",
    "                   \"max_features\": [0.5], \n",
    "                   \"min_samples_split\": [2],\n",
    "                   \"n_estimators\": [100],\n",
    "                   \"random_state\": [0], # Whether to use out-of-bag samples to estimate the generalization accuracy.\n",
    "                  }"
   ]
  },
  {
   "cell_type": "code",
   "execution_count": 19,
   "metadata": {},
   "outputs": [
    {
     "data": {
      "text/plain": [
       "GridSearchCV(cv=4, error_score='raise-deprecating',\n",
       "       estimator=RandomForestClassifier(bootstrap=True, class_weight=None, criterion='gini',\n",
       "            max_depth=None, max_features='auto', max_leaf_nodes=None,\n",
       "            min_impurity_decrease=0.0, min_impurity_split=None,\n",
       "            min_samples_leaf=1, min_samples_split=2,\n",
       "            min_weight_fraction_leaf=0.0, n_estimators='warn', n_jobs=None,\n",
       "            oob_score=False, random_state=None, verbose=0,\n",
       "            warm_start=False),\n",
       "       fit_params=None, iid='warn', n_jobs=None,\n",
       "       param_grid={'criterion': ['gini'], 'max_depth': [5], 'max_features': [0.5], 'min_samples_split': [2], 'n_estimators': [100], 'random_state': [0]},\n",
       "       pre_dispatch='2*n_jobs', refit=True, return_train_score='warn',\n",
       "       scoring=None, verbose=0)"
      ]
     },
     "execution_count": 19,
     "metadata": {},
     "output_type": "execute_result"
    }
   ],
   "source": [
    "cls = RandomForestClassifier()\n",
    "grid = GridSearchCV(cls,param_grid=hyperparameters,cv=4)\n",
    "grid.fit(train_x_log, train_y_class)"
   ]
  },
  {
   "cell_type": "code",
   "execution_count": 20,
   "metadata": {},
   "outputs": [
    {
     "name": "stdout",
     "output_type": "stream",
     "text": [
      "0.039157697404570285\n",
      "RandomForestClassifier(bootstrap=True, class_weight=None, criterion='gini',\n",
      "            max_depth=5, max_features=0.5, max_leaf_nodes=None,\n",
      "            min_impurity_decrease=0.0, min_impurity_split=None,\n",
      "            min_samples_leaf=1, min_samples_split=2,\n",
      "            min_weight_fraction_leaf=0.0, n_estimators=100, n_jobs=None,\n",
      "            oob_score=False, random_state=0, verbose=0, warm_start=False)\n"
     ]
    }
   ],
   "source": [
    "best_params = grid.best_params_\n",
    "best_score = grid.best_score_\n",
    "best_rf = grid.best_estimator_\n",
    "print(best_score)\n",
    "print(best_rf)"
   ]
  },
  {
   "cell_type": "code",
   "execution_count": 21,
   "metadata": {},
   "outputs": [
    {
     "data": {
      "text/plain": [
       "0.3705517308251721"
      ]
     },
     "execution_count": 21,
     "metadata": {},
     "output_type": "execute_result"
    }
   ],
   "source": [
    "best_rf.score(train_x_log,train_y_class)"
   ]
  },
  {
   "cell_type": "markdown",
   "metadata": {},
   "source": [
    "# test_x Prediction for Ensemble Model"
   ]
  },
  {
   "cell_type": "code",
   "execution_count": 22,
   "metadata": {},
   "outputs": [],
   "source": [
    "RF_test_x_log_pred = best_rf.predict_proba(test_x_log)"
   ]
  },
  {
   "cell_type": "code",
   "execution_count": 23,
   "metadata": {},
   "outputs": [
    {
     "name": "stdout",
     "output_type": "stream",
     "text": [
      "(144368, 9)\n"
     ]
    }
   ],
   "source": [
    "RF_test_x_log_pred = np.array(RF_test_x_log_pred)\n",
    "RF_test_x_log_pred = RF_test_x_log_pred.reshape((144368,9,2))\n",
    "RF_test_x_log_pred = RF_test_x_log_pred[:,:,0]\n",
    "RF_test_x_log_pred = pd.DataFrame(RF_test_x_log_pred, columns = [\"RF_test_x_log_pred_\" + str(i) for i in range(1,10,1)])\n",
    "print(RF_test_x_log_pred.shape)"
   ]
  },
  {
   "cell_type": "code",
   "execution_count": 24,
   "metadata": {},
   "outputs": [],
   "source": [
    "Submission = pd.read_csv(\"sampleSubmission.csv\")\n",
    "Submission[['Class_1', 'Class_2', 'Class_3', 'Class_4', 'Class_5', 'Class_6',\n",
    "       'Class_7', 'Class_8', 'Class_9']] = RF_test_x_log_pred"
   ]
  },
  {
   "cell_type": "code",
   "execution_count": 25,
   "metadata": {},
   "outputs": [],
   "source": [
    "## Creating a Submission File to submit to Kaggle competition ##\n",
    "Submission.to_csv(\"RF_test_x_log_pred.csv\",index=False)"
   ]
  },
  {
   "cell_type": "markdown",
   "metadata": {},
   "source": [
    "# train_x Prediction for Ensemble Model"
   ]
  },
  {
   "cell_type": "code",
   "execution_count": 26,
   "metadata": {},
   "outputs": [],
   "source": [
    "RF_train_x_log_pred = best_rf.predict_proba(train_x_log)"
   ]
  },
  {
   "cell_type": "code",
   "execution_count": 27,
   "metadata": {},
   "outputs": [
    {
     "name": "stdout",
     "output_type": "stream",
     "text": [
      "(61878, 9)\n"
     ]
    }
   ],
   "source": [
    "RF_train_x_log_pred = np.array(RF_train_x_log_pred)\n",
    "RF_train_x_log_pred = RF_train_x_log_pred.reshape((61878,9,2))\n",
    "RF_train_x_log_pred = RF_train_x_log_pred[:,:,0]\n",
    "RF_train_x_log_pred = pd.DataFrame(RF_train_x_log_pred, columns = [\"RF_train_x_log_pred_\" + str(i) for i in range(1,10,1)])\n",
    "print(RF_train_x_log_pred.shape)"
   ]
  },
  {
   "cell_type": "code",
   "execution_count": 28,
   "metadata": {},
   "outputs": [],
   "source": [
    "Submission = pd.read_csv(\"sampleSubmission.csv\")\n",
    "Submission[['Class_1', 'Class_2', 'Class_3', 'Class_4', 'Class_5', 'Class_6',\n",
    "       'Class_7', 'Class_8', 'Class_9']] = RF_train_x_log_pred"
   ]
  },
  {
   "cell_type": "code",
   "execution_count": 29,
   "metadata": {},
   "outputs": [],
   "source": [
    "## Creating a Submission File to submit to Kaggle competition ##\n",
    "Submission.to_csv(\"RF_train_x_log_pred.csv\",index=False)"
   ]
  },
  {
   "cell_type": "markdown",
   "metadata": {},
   "source": [
    "# 3. Random Forest Classifier, Grid Search with train_x_eng_with_KNN_TSNE_KMean, train_y_class"
   ]
  },
  {
   "cell_type": "code",
   "execution_count": 30,
   "metadata": {},
   "outputs": [],
   "source": [
    "from sklearn.ensemble import RandomForestClassifier\n",
    "from sklearn.model_selection import cross_val_score\n",
    "from sklearn.model_selection import GridSearchCV"
   ]
  },
  {
   "cell_type": "code",
   "execution_count": 31,
   "metadata": {},
   "outputs": [],
   "source": [
    "hyperparameters = {\"criterion\": [\"gini\"],\n",
    "                   \"max_depth\": [6],   \n",
    "                   \"max_features\": [0.9], \n",
    "                   \"min_samples_split\": [2],\n",
    "                   \"n_estimators\": [100],\n",
    "                   \"random_state\": [0], # Whether to use out-of-bag samples to estimate the generalization accuracy.\n",
    "                  }"
   ]
  },
  {
   "cell_type": "code",
   "execution_count": 32,
   "metadata": {},
   "outputs": [
    {
     "data": {
      "text/plain": [
       "GridSearchCV(cv=4, error_score='raise-deprecating',\n",
       "       estimator=RandomForestClassifier(bootstrap=True, class_weight=None, criterion='gini',\n",
       "            max_depth=None, max_features='auto', max_leaf_nodes=None,\n",
       "            min_impurity_decrease=0.0, min_impurity_split=None,\n",
       "            min_samples_leaf=1, min_samples_split=2,\n",
       "            min_weight_fraction_leaf=0.0, n_estimators='warn', n_jobs=None,\n",
       "            oob_score=False, random_state=None, verbose=0,\n",
       "            warm_start=False),\n",
       "       fit_params=None, iid='warn', n_jobs=None,\n",
       "       param_grid={'criterion': ['gini'], 'max_depth': [6], 'max_features': [0.9], 'min_samples_split': [2], 'n_estimators': [100], 'random_state': [0]},\n",
       "       pre_dispatch='2*n_jobs', refit=True, return_train_score='warn',\n",
       "       scoring=None, verbose=0)"
      ]
     },
     "execution_count": 32,
     "metadata": {},
     "output_type": "execute_result"
    }
   ],
   "source": [
    "cls = RandomForestClassifier()\n",
    "grid = GridSearchCV(cls,param_grid=hyperparameters,cv=4)\n",
    "grid.fit(train_x_eng_with_KNN_TSNE_KMean, train_y_class)"
   ]
  },
  {
   "cell_type": "code",
   "execution_count": 33,
   "metadata": {},
   "outputs": [
    {
     "name": "stdout",
     "output_type": "stream",
     "text": [
      "0.29259187433336564\n",
      "RandomForestClassifier(bootstrap=True, class_weight=None, criterion='gini',\n",
      "            max_depth=6, max_features=0.9, max_leaf_nodes=None,\n",
      "            min_impurity_decrease=0.0, min_impurity_split=None,\n",
      "            min_samples_leaf=1, min_samples_split=2,\n",
      "            min_weight_fraction_leaf=0.0, n_estimators=100, n_jobs=None,\n",
      "            oob_score=False, random_state=0, verbose=0, warm_start=False)\n"
     ]
    }
   ],
   "source": [
    "best_params = grid.best_params_\n",
    "best_score = grid.best_score_\n",
    "best_rf = grid.best_estimator_\n",
    "print(best_score)\n",
    "print(best_rf)"
   ]
  },
  {
   "cell_type": "code",
   "execution_count": 34,
   "metadata": {},
   "outputs": [
    {
     "data": {
      "text/plain": [
       "0.8051973237661204"
      ]
     },
     "execution_count": 34,
     "metadata": {},
     "output_type": "execute_result"
    }
   ],
   "source": [
    "best_rf.score(train_x_eng_with_KNN_TSNE_KMean,train_y_class)"
   ]
  },
  {
   "cell_type": "markdown",
   "metadata": {},
   "source": [
    "# test_x Prediction for Ensemble Model"
   ]
  },
  {
   "cell_type": "code",
   "execution_count": 35,
   "metadata": {},
   "outputs": [],
   "source": [
    "RF_test_x_eng_pred = best_rf.predict_proba(test_x_eng_with_KNN_TSNE_Kmean)"
   ]
  },
  {
   "cell_type": "code",
   "execution_count": 36,
   "metadata": {},
   "outputs": [
    {
     "name": "stdout",
     "output_type": "stream",
     "text": [
      "(144368, 9)\n"
     ]
    }
   ],
   "source": [
    "RF_test_x_eng_pred = np.array(RF_test_x_eng_pred)\n",
    "RF_test_x_eng_pred = RF_test_x_eng_pred.reshape((144368,9,2))\n",
    "RF_test_x_eng_pred = RF_test_x_eng_pred[:,:,0]\n",
    "RF_test_x_eng_pred = pd.DataFrame(RF_test_x_eng_pred, columns = [\"RF_test_x_eng_pred_\" + str(i) for i in range(1,10,1)])\n",
    "print(RF_test_x_eng_pred.shape)"
   ]
  },
  {
   "cell_type": "code",
   "execution_count": 37,
   "metadata": {},
   "outputs": [],
   "source": [
    "Submission = pd.read_csv(\"sampleSubmission.csv\")\n",
    "Submission[['Class_1', 'Class_2', 'Class_3', 'Class_4', 'Class_5', 'Class_6',\n",
    "       'Class_7', 'Class_8', 'Class_9']] = RF_test_x_eng_pred"
   ]
  },
  {
   "cell_type": "code",
   "execution_count": 38,
   "metadata": {},
   "outputs": [],
   "source": [
    "## Creating a Submission File to submit to Kaggle competition ##\n",
    "Submission.to_csv(\"RF_test_x_eng_pred.csv\",index=False)"
   ]
  },
  {
   "cell_type": "markdown",
   "metadata": {},
   "source": [
    "# train_x Prediction for Ensemble Model"
   ]
  },
  {
   "cell_type": "code",
   "execution_count": 39,
   "metadata": {},
   "outputs": [],
   "source": [
    "RF_train_x_eng_pred = best_rf.predict_proba(train_x_eng_with_KNN_TSNE_KMean)"
   ]
  },
  {
   "cell_type": "code",
   "execution_count": 40,
   "metadata": {},
   "outputs": [
    {
     "name": "stdout",
     "output_type": "stream",
     "text": [
      "(61878, 9)\n"
     ]
    }
   ],
   "source": [
    "RF_train_x_eng_pred = np.array(RF_train_x_eng_pred)\n",
    "RF_train_x_eng_pred = RF_train_x_eng_pred.reshape((61878,9,2))\n",
    "RF_train_x_eng_pred = RF_train_x_eng_pred[:,:,0]\n",
    "RF_train_x_eng_pred = pd.DataFrame(RF_train_x_eng_pred, columns = [\"RF_train_x_eng_pred_\" + str(i) for i in range(1,10,1)])\n",
    "print(RF_train_x_eng_pred.shape)"
   ]
  },
  {
   "cell_type": "code",
   "execution_count": 41,
   "metadata": {},
   "outputs": [],
   "source": [
    "Submission = pd.read_csv(\"sampleSubmission.csv\")\n",
    "Submission[['Class_1', 'Class_2', 'Class_3', 'Class_4', 'Class_5', 'Class_6',\n",
    "       'Class_7', 'Class_8', 'Class_9']] = RF_train_x_eng_pred"
   ]
  },
  {
   "cell_type": "code",
   "execution_count": 42,
   "metadata": {},
   "outputs": [],
   "source": [
    "## Creating a Submission File to submit to Kaggle competition ##\n",
    "Submission.to_csv(\"RF_train_x_eng_pred.csv\",index=False)"
   ]
  },
  {
   "cell_type": "markdown",
   "metadata": {},
   "source": [
    "# 4. Random Forest Classifier, Grid Search with train_x_log_eng_with_KNN_TSNE_KMean, train_y_class"
   ]
  },
  {
   "cell_type": "code",
   "execution_count": 43,
   "metadata": {},
   "outputs": [],
   "source": [
    "from sklearn.ensemble import RandomForestClassifier\n",
    "from sklearn.model_selection import cross_val_score\n",
    "from sklearn.model_selection import GridSearchCV"
   ]
  },
  {
   "cell_type": "code",
   "execution_count": 44,
   "metadata": {},
   "outputs": [],
   "source": [
    "hyperparameters = {\"criterion\": [\"gini\"],\n",
    "                   \"max_depth\": [6],   \n",
    "                   \"max_features\": [0.9], \n",
    "                   \"min_samples_split\": [2],\n",
    "                   \"n_estimators\": [100],\n",
    "                   \"random_state\": [0], # Whether to use out-of-bag samples to estimate the generalization accuracy.\n",
    "                  }"
   ]
  },
  {
   "cell_type": "code",
   "execution_count": 45,
   "metadata": {},
   "outputs": [
    {
     "data": {
      "text/plain": [
       "GridSearchCV(cv=4, error_score='raise-deprecating',\n",
       "       estimator=RandomForestClassifier(bootstrap=True, class_weight=None, criterion='gini',\n",
       "            max_depth=None, max_features='auto', max_leaf_nodes=None,\n",
       "            min_impurity_decrease=0.0, min_impurity_split=None,\n",
       "            min_samples_leaf=1, min_samples_split=2,\n",
       "            min_weight_fraction_leaf=0.0, n_estimators='warn', n_jobs=None,\n",
       "            oob_score=False, random_state=None, verbose=0,\n",
       "            warm_start=False),\n",
       "       fit_params=None, iid='warn', n_jobs=None,\n",
       "       param_grid={'criterion': ['gini'], 'max_depth': [6], 'max_features': [0.9], 'min_samples_split': [2], 'n_estimators': [100], 'random_state': [0]},\n",
       "       pre_dispatch='2*n_jobs', refit=True, return_train_score='warn',\n",
       "       scoring=None, verbose=0)"
      ]
     },
     "execution_count": 45,
     "metadata": {},
     "output_type": "execute_result"
    }
   ],
   "source": [
    "cls = RandomForestClassifier()\n",
    "grid = GridSearchCV(cls,param_grid=hyperparameters,cv=4)\n",
    "grid.fit(train_x_log_eng_with_KNN_TSNE_KMean, train_y_class)"
   ]
  },
  {
   "cell_type": "code",
   "execution_count": 46,
   "metadata": {},
   "outputs": [
    {
     "name": "stdout",
     "output_type": "stream",
     "text": [
      "0.29259187433336564\n",
      "RandomForestClassifier(bootstrap=True, class_weight=None, criterion='gini',\n",
      "            max_depth=6, max_features=0.9, max_leaf_nodes=None,\n",
      "            min_impurity_decrease=0.0, min_impurity_split=None,\n",
      "            min_samples_leaf=1, min_samples_split=2,\n",
      "            min_weight_fraction_leaf=0.0, n_estimators=100, n_jobs=None,\n",
      "            oob_score=False, random_state=0, verbose=0, warm_start=False)\n"
     ]
    }
   ],
   "source": [
    "best_params = grid.best_params_\n",
    "best_score = grid.best_score_\n",
    "best_rf = grid.best_estimator_\n",
    "print(best_score)\n",
    "print(best_rf)"
   ]
  },
  {
   "cell_type": "code",
   "execution_count": 47,
   "metadata": {},
   "outputs": [
    {
     "data": {
      "text/plain": [
       "0.8051973237661204"
      ]
     },
     "execution_count": 47,
     "metadata": {},
     "output_type": "execute_result"
    }
   ],
   "source": [
    "best_rf.score(train_x_log_eng_with_KNN_TSNE_KMean,train_y_class)"
   ]
  },
  {
   "cell_type": "markdown",
   "metadata": {},
   "source": [
    "# test_x Prediction for Ensemble Model"
   ]
  },
  {
   "cell_type": "code",
   "execution_count": 48,
   "metadata": {},
   "outputs": [],
   "source": [
    "RF_test_x_log_eng_pred = best_rf.predict_proba(test_x_log_eng_with_KNN_TSNE_Kmean)"
   ]
  },
  {
   "cell_type": "code",
   "execution_count": 49,
   "metadata": {},
   "outputs": [
    {
     "name": "stdout",
     "output_type": "stream",
     "text": [
      "(144368, 9)\n"
     ]
    }
   ],
   "source": [
    "RF_test_x_log_eng_pred = np.array(RF_test_x_log_eng_pred)\n",
    "RF_test_x_log_eng_pred = RF_test_x_log_eng_pred.reshape((144368,9,2))\n",
    "RF_test_x_log_eng_pred = RF_test_x_log_eng_pred[:,:,0]\n",
    "RF_test_x_log_eng_pred = pd.DataFrame(RF_test_x_log_eng_pred, columns = [\"RF_test_x_log_eng_pred_\" + str(i) for i in range(1,10,1)])\n",
    "print(RF_test_x_log_eng_pred.shape)"
   ]
  },
  {
   "cell_type": "code",
   "execution_count": 50,
   "metadata": {},
   "outputs": [],
   "source": [
    "Submission = pd.read_csv(\"sampleSubmission.csv\")\n",
    "Submission[['Class_1', 'Class_2', 'Class_3', 'Class_4', 'Class_5', 'Class_6',\n",
    "       'Class_7', 'Class_8', 'Class_9']] = RF_test_x_log_eng_pred"
   ]
  },
  {
   "cell_type": "code",
   "execution_count": 51,
   "metadata": {},
   "outputs": [],
   "source": [
    "## Creating a Submission File to submit to Kaggle competition ##\n",
    "Submission.to_csv(\"RF_test_x_log_eng_pred.csv\",index=False)"
   ]
  },
  {
   "cell_type": "markdown",
   "metadata": {},
   "source": [
    "# train_x Prediction for Ensemble Model"
   ]
  },
  {
   "cell_type": "code",
   "execution_count": 52,
   "metadata": {},
   "outputs": [],
   "source": [
    "RF_train_x_log_eng_pred = best_rf.predict_proba(train_x_log_eng_with_KNN_TSNE_KMean)"
   ]
  },
  {
   "cell_type": "code",
   "execution_count": 53,
   "metadata": {},
   "outputs": [
    {
     "name": "stdout",
     "output_type": "stream",
     "text": [
      "(61878, 9)\n"
     ]
    }
   ],
   "source": [
    "RF_train_x_log_eng_pred = np.array(RF_train_x_log_eng_pred)\n",
    "RF_train_x_log_eng_pred = RF_train_x_log_eng_pred.reshape((61878,9,2))\n",
    "RF_train_x_log_eng_pred = RF_train_x_log_eng_pred[:,:,0]\n",
    "RF_train_x_log_eng_pred = pd.DataFrame(RF_train_x_log_eng_pred, columns = [\"RF_train_x_log_eng_pred_\" + str(i) for i in range(1,10,1)])\n",
    "print(RF_train_x_log_eng_pred.shape)"
   ]
  },
  {
   "cell_type": "code",
   "execution_count": 54,
   "metadata": {},
   "outputs": [],
   "source": [
    "Submission = pd.read_csv(\"sampleSubmission.csv\")\n",
    "Submission[['Class_1', 'Class_2', 'Class_3', 'Class_4', 'Class_5', 'Class_6',\n",
    "       'Class_7', 'Class_8', 'Class_9']] = RF_train_x_log_eng_pred"
   ]
  },
  {
   "cell_type": "code",
   "execution_count": 55,
   "metadata": {},
   "outputs": [],
   "source": [
    "## Creating a Submission File to submit to Kaggle competition ##\n",
    "Submission.to_csv(\"RF_train_x_log_eng_pred.csv\",index=False)"
   ]
  },
  {
   "cell_type": "code",
   "execution_count": null,
   "metadata": {},
   "outputs": [],
   "source": []
  }
 ],
 "metadata": {
  "kernelspec": {
   "display_name": "Python 3",
   "language": "python",
   "name": "python3"
  },
  "language_info": {
   "codemirror_mode": {
    "name": "ipython",
    "version": 3
   },
   "file_extension": ".py",
   "mimetype": "text/x-python",
   "name": "python",
   "nbconvert_exporter": "python",
   "pygments_lexer": "ipython3",
   "version": "3.7.3"
  }
 },
 "nbformat": 4,
 "nbformat_minor": 2
}
