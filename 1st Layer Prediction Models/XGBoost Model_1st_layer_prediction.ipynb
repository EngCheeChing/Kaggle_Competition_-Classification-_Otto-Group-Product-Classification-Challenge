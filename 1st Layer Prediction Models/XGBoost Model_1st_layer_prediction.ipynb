{
 "cells": [
  {
   "cell_type": "code",
   "execution_count": null,
   "metadata": {},
   "outputs": [],
   "source": [
    "import pandas as pd\n",
    "import numpy as np\n",
    "from sklearn.metrics import mean_squared_error,mean_absolute_error\n",
    "from plotly.offline import iplot, init_notebook_mode\n",
    "import cufflinks\n",
    "cufflinks.go_offline(connected=True)\n",
    "init_notebook_mode(connected=True)\n",
    "from statsmodels.tools.eval_measures import rmse\n",
    "from sklearn.model_selection import cross_val_score\n",
    "from sklearn.model_selection import train_test_split\n",
    "pd.set_option('display.max_row', 50)\n",
    "pd.set_option('display.max_column', 150)\n",
    "\n",
    "import warnings\n",
    "warnings.filterwarnings('ignore')"
   ]
  },
  {
   "cell_type": "code",
   "execution_count": null,
   "metadata": {},
   "outputs": [],
   "source": [
    "train = pd.read_csv(\"train.csv\")\n",
    "test = pd.read_csv(\"test.csv\")\n",
    "Submission = pd.read_csv(\"sampleSubmission.csv\")"
   ]
  },
  {
   "cell_type": "code",
   "execution_count": null,
   "metadata": {},
   "outputs": [],
   "source": [
    "train_x = train.drop([\"target\",\"id\"],axis=1)\n",
    "train_y = pd.DataFrame(train[\"target\"])\n",
    "test_x = test.drop(\"id\", axis=1)"
   ]
  },
  {
   "cell_type": "code",
   "execution_count": null,
   "metadata": {},
   "outputs": [],
   "source": [
    "from sklearn.preprocessing import LabelEncoder\n",
    "le = LabelEncoder()\n",
    "train_y_label = pd.DataFrame((le.fit_transform(train_y)))"
   ]
  },
  {
   "cell_type": "code",
   "execution_count": null,
   "metadata": {},
   "outputs": [],
   "source": [
    "def create_dummies(df,column_name):\n",
    "    dummies = pd.get_dummies(df[column_name],prefix=column_name)\n",
    "    df = pd.concat([df,dummies],axis=1)\n",
    "    return df\n",
    "\n",
    "train_y_class = create_dummies(train_y,\"target\").drop(\"target\",axis=1)"
   ]
  },
  {
   "cell_type": "code",
   "execution_count": null,
   "metadata": {},
   "outputs": [],
   "source": [
    "# Features Transformation\n",
    "train_x_log = train_x.apply(lambda x: np.log(x+1))\n",
    "test_x_log = test_x.apply(lambda x: np.log(x+1))\n",
    "train_x_log_sqrt = train_x.apply(lambda x: np.sqrt(np.log(x+1)))\n",
    "test_x_log_sqrt = test_x.apply(lambda x: np.sqrt(np.log(x+1)))"
   ]
  },
  {
   "cell_type": "code",
   "execution_count": null,
   "metadata": {},
   "outputs": [],
   "source": [
    "# To check the unique columns value no. between train and test set\n",
    "compare_list = []\n",
    "for columns in train_x.columns:\n",
    "    a = len(train_x[columns].unique())\n",
    "    b = len(test_x[columns].unique())\n",
    "    if a != b:\n",
    "        compare_list.append(columns)   "
   ]
  },
  {
   "cell_type": "code",
   "execution_count": null,
   "metadata": {},
   "outputs": [],
   "source": [
    "print(train_x.shape)\n",
    "print(test_x.shape)\n",
    "print(train_x_log.shape)\n",
    "print(test_x_log.shape)\n",
    "print(train_x_log_sqrt.shape)\n",
    "print(test_x_log_sqrt.shape)\n",
    "print(train_y_class.shape)"
   ]
  },
  {
   "cell_type": "markdown",
   "metadata": {},
   "source": [
    "# 1. XGBoost, train with Original Dataset (X)"
   ]
  },
  {
   "cell_type": "code",
   "execution_count": null,
   "metadata": {},
   "outputs": [],
   "source": [
    "import xgboost as xgb\n",
    "from sklearn.model_selection import cross_val_score\n",
    "from sklearn.model_selection import GridSearchCV\n",
    "from sklearn.metrics import mean_squared_error\n",
    "import pickle"
   ]
  },
  {
   "cell_type": "code",
   "execution_count": null,
   "metadata": {},
   "outputs": [],
   "source": [
    "hyperparameters_dict = {\"learning_rate\": [0.1,0.2,0.3],              # range: [0,1], default = 0.3\n",
    "                   # Minimum loss reduction required to make a further partition on a leaf node of the tree. \n",
    "                   # The larger gamma is, the more conservative the algorithm will be.                   \n",
    "                   \"gamma\": [i/10.0 for i in range(1,10,2)],\n",
    "                   # Maximum depth of a tree. \n",
    "                   # Increasing this value will make the model more complex and more likely to overfit\n",
    "                   \"max_depth\": [6], \n",
    "                   # Used to control over-fitting\n",
    "                   # Too high values can lead to under-fitting hence, it should be tuned using grid search\n",
    "                   \"min_child_weight\": [1],\n",
    "                   # Usually this parameter is not needed, but it might help in logistic regression when class is extremely imbalanced\n",
    "                   \"max_delta_step\": [0],\n",
    "                   # Denotes the fraction of observations to be randomly samples for each tree\n",
    "                   # Typical values: 0.5-1\n",
    "                   \"subsample\": [0.8],\n",
    "                   # Similar to max_features in GBM, Typical values: 0.5 - 1\n",
    "                   # Denotes the fraction of columns to be randomly samples for each tree.\n",
    "                   \"colsample_bytree\": [0.8,1],\n",
    "                   \"colsample_bylevel\": [1], # colsample_bytree will control the decision over this, default = 1\n",
    "                   \"colsample_bynode\": [1],  # colsample_bytree will control the decision over this, default = 1\n",
    "                   # L2 regularization term on weights. Increasing this value will make model more conservative.\n",
    "                   \"reg_lambda\": [1], # default = 1\n",
    "                   # L1 regularization term on weights. Increasing this value will make model more conservative.\n",
    "                   \"reg_alpha\": [1],  # default = 0\n",
    "                   # Control the balance of positive and negative weights, useful for unbalanced classes. \n",
    "                   # A typical value to consider: sum(negative instances) / sum(positive instances)\n",
    "                   \"scale_pos_weight\": [1],\n",
    "                   # No. of trees ensemble, too high sometimes still can cause overfitting\n",
    "                   \"n_estimators\": [300,400], \n",
    "                   \"booster\": [\"gbtree\"],\n",
    "                   \"verbosity\": [1],\n",
    "                   \"objective\": [\"reg:squarederror\"],\n",
    "                   \"seed\": [50]\n",
    "                   }"
   ]
  },
  {
   "cell_type": "code",
   "execution_count": null,
   "metadata": {},
   "outputs": [],
   "source": [
    "# To track the iteration records for parameters tuning\n",
    "best_score_list = []\n",
    "best_params_list = []\n",
    "best_R2_list = []"
   ]
  },
  {
   "cell_type": "code",
   "execution_count": null,
   "metadata": {},
   "outputs": [],
   "source": [
    "hyperparameters_tuning = {'learning_rate': [0.1],               # 6th when boosting\n",
    "                          'gamma': [0],                       # 3rd\n",
    "                          'max_depth': [4],                     # 1st to tune\n",
    "                          'min_child_weight': [0],              # 2nd\n",
    "                          'max_delta_step': [0],\n",
    "                          'subsample': [i/10.0 for i in range(1,10,1)],                   # 4th\n",
    "                          'colsample_bytree': [i/10.0 for i in range(1,10,1)],            # 4th \n",
    "                          'colsample_bylevel': [1],\n",
    "                          'colsample_bynode': [1],\n",
    "                          'reg_lambda': [0],                    # 5th\n",
    "                          'reg_alpha': [0],                     # 5th\n",
    "                          'scale_pos_weight': [1.0],            # only when dealing with imbalance classes\n",
    "                          'n_estimators': [500],                # 1st\n",
    "                          \"booster\": [\"gbtree\"],\n",
    "                          \"verbosity\": [1],\n",
    "                          \"objective\": [\"multi:softmax\"],\n",
    "                          \"eval_metric\": [\"mlogloss\"],\n",
    "                          \"num_class\": [9],\n",
    "                          \"seed\": [2]\n",
    "                         }                "
   ]
  },
  {
   "cell_type": "code",
   "execution_count": null,
   "metadata": {},
   "outputs": [],
   "source": [
    "# General Parameters setting inside Regressor\n",
    "xgboost = xgb.XGBClassifier()"
   ]
  },
  {
   "cell_type": "code",
   "execution_count": null,
   "metadata": {},
   "outputs": [],
   "source": [
    "xgboost_grid = GridSearchCV(estimator = xgboost, param_grid = hyperparameters_tuning, cv = 4, iid = False)"
   ]
  },
  {
   "cell_type": "code",
   "execution_count": null,
   "metadata": {},
   "outputs": [],
   "source": [
    "xgboost_grid.fit(train_x,train_y_label)"
   ]
  },
  {
   "cell_type": "code",
   "execution_count": null,
   "metadata": {},
   "outputs": [],
   "source": [
    "best_cv_score = xgboost_grid.cv_results_ #thus no need train-test split, as cv will automatic run for us \n",
    "best_params = xgboost_grid.best_params_\n",
    "best_score = xgboost_grid.best_score_\n",
    "best_rf = xgboost_grid.best_estimator_\n",
    "best_accuracy_score = best_rf.score(train_x,train_y_label)\n",
    "best_score_list.append(best_score)\n",
    "best_params_list.append(best_rf)\n",
    "best_R2_list.append(best_accuracy_score)\n",
    "print(best_score)\n",
    "print(best_accuracy_score)\n",
    "print(best_rf)"
   ]
  },
  {
   "cell_type": "code",
   "execution_count": null,
   "metadata": {},
   "outputs": [],
   "source": [
    "print(best_score_list)\n",
    "print(best_R2_list)\n",
    "print(best_params_list)"
   ]
  },
  {
   "cell_type": "markdown",
   "metadata": {},
   "source": [
    "# Prediction for Kaggle Submission Before Boosting Tuning"
   ]
  },
  {
   "cell_type": "code",
   "execution_count": null,
   "metadata": {},
   "outputs": [],
   "source": [
    "xgb_Ori_X_pred = best_rf.predict_proba(test_x)"
   ]
  },
  {
   "cell_type": "code",
   "execution_count": null,
   "metadata": {},
   "outputs": [],
   "source": [
    "Submission[['Class_1', 'Class_2', 'Class_3', 'Class_4', 'Class_5', 'Class_6',\n",
    "       'Class_7', 'Class_8', 'Class_9']] = xgb_OriX_pred"
   ]
  },
  {
   "cell_type": "code",
   "execution_count": null,
   "metadata": {},
   "outputs": [],
   "source": [
    "## Creating a Submission File to submit to Kaggle competition ##\n",
    "Submission.to_csv(\"XGBoost_Ori_X_pred.csv\",index=False)"
   ]
  },
  {
   "cell_type": "markdown",
   "metadata": {},
   "source": [
    "# Create XGBoost's DMatrix, after fine tuning the parameters"
   ]
  },
  {
   "cell_type": "code",
   "execution_count": null,
   "metadata": {},
   "outputs": [],
   "source": [
    "trainDMat = xgb.DMatrix(data = train_x, label = train_y_label)"
   ]
  },
  {
   "cell_type": "code",
   "execution_count": null,
   "metadata": {},
   "outputs": [],
   "source": [
    "# Lower the learning_rate and set a large num_boost_round hyperparameter to ensure convergence. \n",
    "# If convergence is slow, retry with a slightly higher learning rate (e.g. 0.075 instead of 0.05)\n",
    "num_boost_round = 150000\n",
    "early_stopping_rounds = 50\n",
    "# Activates early stopping. CV error needs to decrease at least every <early_stopping_rounds> round(s) to continue.\n",
    "# Last entry in evaluation history is the one from best iteration."
   ]
  },
  {
   "cell_type": "code",
   "execution_count": null,
   "metadata": {},
   "outputs": [],
   "source": [
    "hyperparameters_boosting ={'learning_rate': 0.001,               # 6th when boosting\n",
    "                          'gamma': 0.01,                       # 3rd\n",
    "                          'max_depth': 6,                     # 1st to tune\n",
    "                          'min_child_weight': 1,              # 2nd\n",
    "                          'max_delta_step': 0,\n",
    "                          'subsample': 0.7,                   # 4th\n",
    "                          'colsample_bytree': 0.3,            # 4th \n",
    "                          'colsample_bylevel': 1,\n",
    "                          'colsample_bynode': 1,\n",
    "                          'reg_lambda': 1,                    # 5th\n",
    "                          'reg_alpha': 0,                     # 5th\n",
    "                          'scale_pos_weight': 1.0,            # only when dealing with imbalance classes\n",
    "                          'n_estimators': 87,                # 1st\n",
    "                          \"booster\": \"gbtree\",\n",
    "                          \"verbosity\": 1,\n",
    "                          \"objective\": \"reg:squarederror\",\n",
    "                          \"seed\": 50\n",
    "                         }                                  "
   ]
  },
  {
   "cell_type": "code",
   "execution_count": null,
   "metadata": {},
   "outputs": [],
   "source": [
    "xgbCV = xgb.cv(\n",
    "    params = hyperparameters_boosting, \n",
    "    dtrain = trainDMat, \n",
    "    num_boost_round = num_boost_round,\n",
    "    nfold = 6, #same as CV\n",
    "    metrics = {'rmse'},\n",
    "    early_stopping_rounds = early_stopping_rounds,\n",
    "    verbose_eval = True,     \n",
    ")"
   ]
  },
  {
   "cell_type": "markdown",
   "metadata": {},
   "source": [
    "# Finalise XGBoost Model"
   ]
  },
  {
   "cell_type": "code",
   "execution_count": null,
   "metadata": {},
   "outputs": [],
   "source": [
    "num_boost_round = len(xgbCV)\n",
    "\n",
    "xgbFinal = xgb.train(\n",
    "    params = hyperparameters_boosting, \n",
    "    dtrain = trainDMat, \n",
    "    num_boost_round = num_boost_round,\n",
    ")"
   ]
  },
  {
   "cell_type": "code",
   "execution_count": null,
   "metadata": {},
   "outputs": [],
   "source": [
    "fig, ax = plt.subplots(figsize=(20, 20))\n",
    "xgb.plot_importance(xgbFinal, ax=ax)"
   ]
  },
  {
   "cell_type": "markdown",
   "metadata": {},
   "source": [
    "# Prediction for Kaggle Submission"
   ]
  },
  {
   "cell_type": "code",
   "execution_count": null,
   "metadata": {},
   "outputs": [],
   "source": [
    "xgb_OriX_pred_boosted = xgbFinal.predict_proba(xgb.DMatrix(test_x))"
   ]
  },
  {
   "cell_type": "code",
   "execution_count": null,
   "metadata": {},
   "outputs": [],
   "source": [
    "Submission[['Class_1', 'Class_2', 'Class_3', 'Class_4', 'Class_5', 'Class_6',\n",
    "       'Class_7', 'Class_8', 'Class_9']] = xgb_OriX_pred_boosted"
   ]
  },
  {
   "cell_type": "code",
   "execution_count": null,
   "metadata": {},
   "outputs": [],
   "source": [
    "## Creating a Submission File to submit to Kaggle competition ##\n",
    "Submission.to_csv(\"XGBoost_Ori_X_pred_boosted.csv\",index=False)"
   ]
  },
  {
   "cell_type": "markdown",
   "metadata": {},
   "source": [
    "# Saving the final model"
   ]
  },
  {
   "cell_type": "code",
   "execution_count": null,
   "metadata": {},
   "outputs": [],
   "source": [
    "pickle.dump(xgbFinal, open(\"xgbFinal.pickle.dat\", \"wb\"))"
   ]
  },
  {
   "cell_type": "markdown",
   "metadata": {},
   "source": [
    "# Loading the final model"
   ]
  },
  {
   "cell_type": "code",
   "execution_count": null,
   "metadata": {},
   "outputs": [],
   "source": [
    "xgb_test = pickle.load(open(\"xgbFinal.pickle.dat\", \"rb\"))"
   ]
  },
  {
   "cell_type": "code",
   "execution_count": null,
   "metadata": {},
   "outputs": [],
   "source": [
    "# Re-forecast the prediction to verify the model\n",
    "xgb_test_p = xgb_test.predict_proba(xgb.DMatrix(test_x))"
   ]
  },
  {
   "cell_type": "code",
   "execution_count": null,
   "metadata": {},
   "outputs": [],
   "source": [
    "# 1. XGBoost, train with Original Dataset (X)\n",
    "\n",
    "import xgboost as xgb\n",
    "from sklearn.model_selection import cross_val_score\n",
    "from sklearn.model_selection import GridSearchCV\n",
    "from sklearn.metrics import mean_squared_error\n",
    "import pickle\n",
    "\n",
    "hyperparameters_dict = {\"learning_rate\": [0.1,0.2,0.3],              # range: [0,1], default = 0.3\n",
    "                   # Minimum loss reduction required to make a further partition on a leaf node of the tree. \n",
    "                   # The larger gamma is, the more conservative the algorithm will be.                   \n",
    "                   \"gamma\": [i/10.0 for i in range(1,10,2)],\n",
    "                   # Maximum depth of a tree. \n",
    "                   # Increasing this value will make the model more complex and more likely to overfit\n",
    "                   \"max_depth\": [6], \n",
    "                   # Used to control over-fitting\n",
    "                   # Too high values can lead to under-fitting hence, it should be tuned using grid search\n",
    "                   \"min_child_weight\": [1],\n",
    "                   # Usually this parameter is not needed, but it might help in logistic regression when class is extremely imbalanced\n",
    "                   \"max_delta_step\": [0],\n",
    "                   # Denotes the fraction of observations to be randomly samples for each tree\n",
    "                   # Typical values: 0.5-1\n",
    "                   \"subsample\": [0.8],\n",
    "                   # Similar to max_features in GBM, Typical values: 0.5 - 1\n",
    "                   # Denotes the fraction of columns to be randomly samples for each tree.\n",
    "                   \"colsample_bytree\": [0.8,1],\n",
    "                   \"colsample_bylevel\": [1], # colsample_bytree will control the decision over this, default = 1\n",
    "                   \"colsample_bynode\": [1],  # colsample_bytree will control the decision over this, default = 1\n",
    "                   # L2 regularization term on weights. Increasing this value will make model more conservative.\n",
    "                   \"reg_lambda\": [1], # default = 1\n",
    "                   # L1 regularization term on weights. Increasing this value will make model more conservative.\n",
    "                   \"reg_alpha\": [1],  # default = 0\n",
    "                   # Control the balance of positive and negative weights, useful for unbalanced classes. \n",
    "                   # A typical value to consider: sum(negative instances) / sum(positive instances)\n",
    "                   \"scale_pos_weight\": [1],\n",
    "                   # No. of trees ensemble, too high sometimes still can cause overfitting\n",
    "                   \"n_estimators\": [300,400], \n",
    "                   \"booster\": [\"gbtree\"],\n",
    "                   \"verbosity\": [1],\n",
    "                   \"objective\": [\"reg:squarederror\"],\n",
    "                   \"seed\": [50]\n",
    "                   }\n",
    "\n",
    "# To track the iteration records for parameters tuning\n",
    "best_score_list = []\n",
    "best_params_list = []\n",
    "best_R2_list = []\n",
    "\n",
    "hyperparameters_tuning = {'learning_rate': [0.1],               # 6th when boosting\n",
    "                          'gamma': [0.01],                       # 3rd\n",
    "                          'max_depth': [6],                     # 1st to tune\n",
    "                          'min_child_weight': [1],              # 2nd\n",
    "                          'max_delta_step': [0],\n",
    "                          'subsample': [0.7],                   # 4th\n",
    "                          'colsample_bytree': [0.3],            # 4th \n",
    "                          'colsample_bylevel': [1],\n",
    "                          'colsample_bynode': [1],\n",
    "                          'reg_lambda': [1.0],                    # 5th\n",
    "                          'reg_alpha': [0],                     # 5th\n",
    "                          'scale_pos_weight': [1.0],            # only when dealing with imbalance classes\n",
    "                          'n_estimators': [10],                # 1st\n",
    "                          \"booster\": [\"gbtree\"],\n",
    "                          \"verbosity\": [1],\n",
    "                          \"objective\": [\"multi:softmax\"],\n",
    "                          \"eval_metric\": [\"mlogloss\"],\n",
    "                          \"num_class\": [9],\n",
    "                          \"seed\": [50]\n",
    "                         }                \n",
    "\n",
    "# General Parameters setting inside Regressor\n",
    "xgboost = xgb.XGBClassifier()\n",
    "\n",
    "xgboost_grid = GridSearchCV(estimator = xgboost, param_grid = hyperparameters_tuning, cv = 6, iid = False, scoring = \"accuracy\")\n",
    "\n",
    "xgboost_grid.fit(train_x,train_y_label)\n",
    "\n",
    "best_cv_score = xgboost_grid.cv_results_ #thus no need train-test split, as cv will automatic run for us \n",
    "best_params = xgboost_grid.best_params_\n",
    "best_score = xgboost_grid.best_score_\n",
    "best_rf = xgboost_grid.best_estimator_\n",
    "best_accuracy_score = best_rf.score(train_x,train_y_label)\n",
    "best_score_list.append(best_score)\n",
    "best_params_list.append(best_rf)\n",
    "best_R2_list.append(best_R2_score)\n",
    "print(best_score)\n",
    "print(best_accuracy_score)\n",
    "print(best_rf)\n",
    "\n",
    "print(best_score_list)\n",
    "print(best_R2_list)\n",
    "print(best_params_list)\n",
    "\n",
    "# Prediction for Kaggle Submission Before Boosting Tuning\n",
    "\n",
    "xgb_Ori_X_pred = best_rf.predict_proba(test_x)\n",
    "\n",
    "Submission[['Class_1', 'Class_2', 'Class_3', 'Class_4', 'Class_5', 'Class_6',\n",
    "       'Class_7', 'Class_8', 'Class_9']] = xgb_OriX_pred\n",
    "\n",
    "## Creating a Submission File to submit to Kaggle competition ##\n",
    "Submission.to_csv(\"XGBoost_Ori_X_pred.csv\",index=False)\n",
    "\n",
    "# Create XGBoost's DMatrix, after fine tuning the parameters\n",
    "\n",
    "trainDMat = xgb.DMatrix(data = train_x, label = train_y_label)\n",
    "\n",
    "# Lower the learning_rate and set a large num_boost_round hyperparameter to ensure convergence. \n",
    "# If convergence is slow, retry with a slightly higher learning rate (e.g. 0.075 instead of 0.05)\n",
    "num_boost_round = 150000\n",
    "early_stopping_rounds = 50\n",
    "# Activates early stopping. CV error needs to decrease at least every <early_stopping_rounds> round(s) to continue.\n",
    "# Last entry in evaluation history is the one from best iteration.\n",
    "\n",
    "hyperparameters_boosting ={'learning_rate': 0.001,               # 6th when boosting\n",
    "                          'gamma': 0.01,                       # 3rd\n",
    "                          'max_depth': 6,                     # 1st to tune\n",
    "                          'min_child_weight': 1,              # 2nd\n",
    "                          'max_delta_step': 0,\n",
    "                          'subsample': 0.7,                   # 4th\n",
    "                          'colsample_bytree': 0.3,            # 4th \n",
    "                          'colsample_bylevel': 1,\n",
    "                          'colsample_bynode': 1,\n",
    "                          'reg_lambda': 1,                    # 5th\n",
    "                          'reg_alpha': 0,                     # 5th\n",
    "                          'scale_pos_weight': 1.0,            # only when dealing with imbalance classes\n",
    "                          'n_estimators': 87,                # 1st\n",
    "                          \"booster\": \"gbtree\",\n",
    "                          \"verbosity\": 1,\n",
    "                          \"objective\": \"reg:squarederror\",\n",
    "                          \"seed\": 50\n",
    "                         }                                  \n",
    "\n",
    "xgbCV = xgb.cv(\n",
    "    params = hyperparameters_boosting, \n",
    "    dtrain = trainDMat, \n",
    "    num_boost_round = num_boost_round,\n",
    "    nfold = 6, #same as CV\n",
    "    metrics = {'rmse'},\n",
    "    early_stopping_rounds = early_stopping_rounds,\n",
    "    verbose_eval = True,     \n",
    ")\n",
    "\n",
    "# Finalise XGBoost Model\n",
    "\n",
    "num_boost_round = len(xgbCV)\n",
    "\n",
    "xgbFinal = xgb.train(\n",
    "    params = hyperparameters_boosting, \n",
    "    dtrain = trainDMat, \n",
    "    num_boost_round = num_boost_round,\n",
    ")\n",
    "\n",
    "fig, ax = plt.subplots(figsize=(20, 20))\n",
    "xgb.plot_importance(xgbFinal, ax=ax)\n",
    "\n",
    "# Prediction for Kaggle Submission\n",
    "\n",
    "xgb_OriX_pred_boosted = xgbFinal.predict_proba(xgb.DMatrix(test_x))\n",
    "\n",
    "Submission[['Class_1', 'Class_2', 'Class_3', 'Class_4', 'Class_5', 'Class_6',\n",
    "       'Class_7', 'Class_8', 'Class_9']] = xgb_OriX_pred\n",
    "\n",
    "## Creating a Submission File to submit to Kaggle competition ##\n",
    "Submission.to_csv(\"XGBoost_Ori_X_pred_boosted.csv\",index=False)\n",
    "\n",
    "# Saving the final model\n",
    "\n",
    "pickle.dump(xgbFinal, open(\"xgbFinal.pickle.dat\", \"wb\"))\n",
    "\n",
    "# Loading the final model\n",
    "\n",
    "xgb_test = pickle.load(open(\"xgbFinal.pickle.dat\", \"rb\"))\n",
    "\n",
    "# Re-forecast the prediction to verify the model\n",
    "xgb_test_p = xgb_test.predict_proba(xgb.DMatrix(test_x))\n",
    "\n",
    "verify_model = (xgbFinal_submission == xgb_test_p)\n",
    "verify_model.sum()verify_model = (xgbFinal_submission == xgb_test_p)\n",
    "verify_model.sum()"
   ]
  },
  {
   "cell_type": "markdown",
   "metadata": {},
   "source": [
    "# 2. XGBoost, train with Original Dataset log(X+1)"
   ]
  },
  {
   "cell_type": "code",
   "execution_count": null,
   "metadata": {},
   "outputs": [],
   "source": [
    "import xgboost as xgb\n",
    "from sklearn.model_selection import cross_val_score\n",
    "from sklearn.model_selection import GridSearchCV\n",
    "from sklearn.metrics import mean_squared_error\n",
    "import pickle"
   ]
  },
  {
   "cell_type": "code",
   "execution_count": null,
   "metadata": {},
   "outputs": [],
   "source": [
    "hyperparameters_dict = {\"learning_rate\": [0.1,0.2,0.3],              # range: [0,1], default = 0.3\n",
    "                   # Minimum loss reduction required to make a further partition on a leaf node of the tree. \n",
    "                   # The larger gamma is, the more conservative the algorithm will be.                   \n",
    "                   \"gamma\": [i/10.0 for i in range(1,10,2)],\n",
    "                   # Maximum depth of a tree. \n",
    "                   # Increasing this value will make the model more complex and more likely to overfit\n",
    "                   \"max_depth\": [6], \n",
    "                   # Used to control over-fitting\n",
    "                   # Too high values can lead to under-fitting hence, it should be tuned using grid search\n",
    "                   \"min_child_weight\": [1],\n",
    "                   # Usually this parameter is not needed, but it might help in logistic regression when class is extremely imbalanced\n",
    "                   \"max_delta_step\": [0],\n",
    "                   # Denotes the fraction of observations to be randomly samples for each tree\n",
    "                   # Typical values: 0.5-1\n",
    "                   \"subsample\": [0.8],\n",
    "                   # Similar to max_features in GBM, Typical values: 0.5 - 1\n",
    "                   # Denotes the fraction of columns to be randomly samples for each tree.\n",
    "                   \"colsample_bytree\": [0.8,1],\n",
    "                   \"colsample_bylevel\": [1], # colsample_bytree will control the decision over this, default = 1\n",
    "                   \"colsample_bynode\": [1],  # colsample_bytree will control the decision over this, default = 1\n",
    "                   # L2 regularization term on weights. Increasing this value will make model more conservative.\n",
    "                   \"reg_lambda\": [1], # default = 1\n",
    "                   # L1 regularization term on weights. Increasing this value will make model more conservative.\n",
    "                   \"reg_alpha\": [1],  # default = 0\n",
    "                   # Control the balance of positive and negative weights, useful for unbalanced classes. \n",
    "                   # A typical value to consider: sum(negative instances) / sum(positive instances)\n",
    "                   \"scale_pos_weight\": [1],\n",
    "                   # No. of trees ensemble, too high sometimes still can cause overfitting\n",
    "                   \"n_estimators\": [300,400], \n",
    "                   \"booster\": [\"gbtree\"],\n",
    "                   \"verbosity\": [1],\n",
    "                   \"objective\": [\"reg:squarederror\"],\n",
    "                   \"seed\": [50]\n",
    "                   }"
   ]
  },
  {
   "cell_type": "code",
   "execution_count": null,
   "metadata": {},
   "outputs": [],
   "source": [
    "# To track the iteration records for parameters tuning\n",
    "best_score_list = []\n",
    "best_params_list = []\n",
    "best_R2_list = []"
   ]
  },
  {
   "cell_type": "code",
   "execution_count": null,
   "metadata": {},
   "outputs": [],
   "source": [
    "hyperparameters_tuning = {'learning_rate': [0.1],               # 6th when boosting\n",
    "                          'gamma': [0.01],                       # 3rd\n",
    "                          'max_depth': [6],                     # 1st to tune\n",
    "                          'min_child_weight': [1],              # 2nd\n",
    "                          'max_delta_step': [0],\n",
    "                          'subsample': [0.7],                   # 4th\n",
    "                          'colsample_bytree': [0.3],            # 4th \n",
    "                          'colsample_bylevel': [1],\n",
    "                          'colsample_bynode': [1],\n",
    "                          'reg_lambda': [1.0],                    # 5th\n",
    "                          'reg_alpha': [0],                     # 5th\n",
    "                          'scale_pos_weight': [1.0],            # only when dealing with imbalance classes\n",
    "                          'n_estimators': [10],                # 1st\n",
    "                          \"booster\": [\"gbtree\"],\n",
    "                          \"verbosity\": [1],\n",
    "                          \"objective\": [\"multi:softmax\"],\n",
    "                          \"eval_metric\": [\"mlogloss\"],\n",
    "                          \"num_class\": [9],\n",
    "                          \"seed\": [50]\n",
    "                         }                "
   ]
  },
  {
   "cell_type": "code",
   "execution_count": null,
   "metadata": {},
   "outputs": [],
   "source": [
    "# General Parameters setting inside Regressor\n",
    "xgboost = xgb.XGBClassifier()"
   ]
  },
  {
   "cell_type": "code",
   "execution_count": null,
   "metadata": {},
   "outputs": [],
   "source": [
    "xgboost_grid = GridSearchCV(estimator = xgboost, param_grid = hyperparameters_tuning, cv = 6, iid = False, scoring = \"accuracy\")"
   ]
  },
  {
   "cell_type": "code",
   "execution_count": null,
   "metadata": {},
   "outputs": [],
   "source": [
    "xgboost_grid.fit(train_x_log,train_y_label)"
   ]
  },
  {
   "cell_type": "code",
   "execution_count": null,
   "metadata": {},
   "outputs": [],
   "source": [
    "best_cv_score = xgboost_grid.cv_results_ #thus no need train-test split, as cv will automatic run for us \n",
    "best_params = xgboost_grid.best_params_\n",
    "best_score = xgboost_grid.best_score_\n",
    "best_rf = xgboost_grid.best_estimator_\n",
    "best_accuracy_score = best_rf.score(train_x,train_y_label)\n",
    "best_score_list.append(best_score)\n",
    "best_params_list.append(best_rf)\n",
    "best_R2_list.append(best_R2_score)\n",
    "print(best_score)\n",
    "print(best_accuracy_score)\n",
    "print(best_rf)"
   ]
  },
  {
   "cell_type": "code",
   "execution_count": null,
   "metadata": {},
   "outputs": [],
   "source": [
    "print(best_score_list)\n",
    "print(best_R2_list)\n",
    "print(best_params_list)"
   ]
  },
  {
   "cell_type": "markdown",
   "metadata": {},
   "source": [
    "# Prediction for Kaggle Submission Before Boosting Tuning"
   ]
  },
  {
   "cell_type": "code",
   "execution_count": null,
   "metadata": {},
   "outputs": [],
   "source": [
    "XGBoost_log_X_pred = best_rf.predict_proba(test_x_log)"
   ]
  },
  {
   "cell_type": "code",
   "execution_count": null,
   "metadata": {},
   "outputs": [],
   "source": [
    "Submission[['Class_1', 'Class_2', 'Class_3', 'Class_4', 'Class_5', 'Class_6',\n",
    "       'Class_7', 'Class_8', 'Class_9']] = XGBoost_log_X_pred"
   ]
  },
  {
   "cell_type": "code",
   "execution_count": null,
   "metadata": {},
   "outputs": [],
   "source": [
    "## Creating a Submission File to submit to Kaggle competition ##\n",
    "Submission.to_csv(\"XGBoost_log_X_pred.csv\",index=False)"
   ]
  },
  {
   "cell_type": "markdown",
   "metadata": {},
   "source": [
    "# Create XGBoost's DMatrix, after fine tuning the parameters"
   ]
  },
  {
   "cell_type": "code",
   "execution_count": null,
   "metadata": {},
   "outputs": [],
   "source": [
    "trainDMat = xgb.DMatrix(data = train_x_log, label = train_y_label)"
   ]
  },
  {
   "cell_type": "code",
   "execution_count": null,
   "metadata": {},
   "outputs": [],
   "source": [
    "# Lower the learning_rate and set a large num_boost_round hyperparameter to ensure convergence. \n",
    "# If convergence is slow, retry with a slightly higher learning rate (e.g. 0.075 instead of 0.05)\n",
    "num_boost_round = 150000\n",
    "early_stopping_rounds = 50\n",
    "# Activates early stopping. CV error needs to decrease at least every <early_stopping_rounds> round(s) to continue.\n",
    "# Last entry in evaluation history is the one from best iteration."
   ]
  },
  {
   "cell_type": "code",
   "execution_count": null,
   "metadata": {},
   "outputs": [],
   "source": [
    "hyperparameters_boosting ={'learning_rate': 0.001,               # 6th when boosting\n",
    "                          'gamma': 0.01,                       # 3rd\n",
    "                          'max_depth': 6,                     # 1st to tune\n",
    "                          'min_child_weight': 1,              # 2nd\n",
    "                          'max_delta_step': 0,\n",
    "                          'subsample': 0.7,                   # 4th\n",
    "                          'colsample_bytree': 0.3,            # 4th \n",
    "                          'colsample_bylevel': 1,\n",
    "                          'colsample_bynode': 1,\n",
    "                          'reg_lambda': 1,                    # 5th\n",
    "                          'reg_alpha': 0,                     # 5th\n",
    "                          'scale_pos_weight': 1.0,            # only when dealing with imbalance classes\n",
    "                          'n_estimators': 87,                # 1st\n",
    "                          \"booster\": \"gbtree\",\n",
    "                          \"verbosity\": 1,\n",
    "                          \"objective\": \"reg:squarederror\",\n",
    "                          \"seed\": 50\n",
    "                         }                                  "
   ]
  },
  {
   "cell_type": "code",
   "execution_count": null,
   "metadata": {},
   "outputs": [],
   "source": [
    "xgbCV = xgb.cv(\n",
    "    params = hyperparameters_boosting, \n",
    "    dtrain = trainDMat, \n",
    "    num_boost_round = num_boost_round,\n",
    "    nfold = 6, #same as CV\n",
    "    metrics = {'rmse'},\n",
    "    early_stopping_rounds = early_stopping_rounds,\n",
    "    verbose_eval = True,     \n",
    ")"
   ]
  },
  {
   "cell_type": "markdown",
   "metadata": {},
   "source": [
    "# Finalise XGBoost Model"
   ]
  },
  {
   "cell_type": "code",
   "execution_count": null,
   "metadata": {},
   "outputs": [],
   "source": [
    "num_boost_round = len(xgbCV)\n",
    "\n",
    "xgbFinal = xgb.train(\n",
    "    params = hyperparameters_boosting, \n",
    "    dtrain = trainDMat, \n",
    "    num_boost_round = num_boost_round,\n",
    ")"
   ]
  },
  {
   "cell_type": "code",
   "execution_count": null,
   "metadata": {},
   "outputs": [],
   "source": [
    "fig, ax = plt.subplots(figsize=(20, 20))\n",
    "xgb.plot_importance(xgbFinal, ax=ax)"
   ]
  },
  {
   "cell_type": "markdown",
   "metadata": {},
   "source": [
    "# Prediction for Kaggle Submission"
   ]
  },
  {
   "cell_type": "code",
   "execution_count": null,
   "metadata": {},
   "outputs": [],
   "source": [
    "XGBoost_log_X_pred_boosted = xgbFinal.predict_proba(xgb.DMatrix(test_x_log))"
   ]
  },
  {
   "cell_type": "code",
   "execution_count": null,
   "metadata": {},
   "outputs": [],
   "source": [
    "Submission[['Class_1', 'Class_2', 'Class_3', 'Class_4', 'Class_5', 'Class_6',\n",
    "       'Class_7', 'Class_8', 'Class_9']] = XGBoost_log_X_pred_boosted"
   ]
  },
  {
   "cell_type": "code",
   "execution_count": null,
   "metadata": {},
   "outputs": [],
   "source": [
    "## Creating a Submission File to submit to Kaggle competition ##\n",
    "Submission.to_csv(\"XGBoost_log_X_pred_boosted.csv\",index=False)"
   ]
  },
  {
   "cell_type": "markdown",
   "metadata": {},
   "source": [
    "# Saving the final model"
   ]
  },
  {
   "cell_type": "code",
   "execution_count": null,
   "metadata": {},
   "outputs": [],
   "source": [
    "pickle.dump(xgbFinal, open(\"xgbFinal.pickle.dat\", \"wb\"))"
   ]
  },
  {
   "cell_type": "markdown",
   "metadata": {},
   "source": [
    "# Loading the final model"
   ]
  },
  {
   "cell_type": "code",
   "execution_count": null,
   "metadata": {},
   "outputs": [],
   "source": [
    "xgb_test = pickle.load(open(\"xgbFinal.pickle.dat\", \"rb\"))"
   ]
  },
  {
   "cell_type": "code",
   "execution_count": null,
   "metadata": {},
   "outputs": [],
   "source": [
    "# Re-forecast the prediction to verify the model\n",
    "xgb_test_p = xgb_test.predict_proba(xgb.DMatrix(test_x))"
   ]
  },
  {
   "cell_type": "code",
   "execution_count": null,
   "metadata": {},
   "outputs": [],
   "source": [
    "verify_model = (xgbFinal_submission == xgb_test_p)\n",
    "verify_model.sum()"
   ]
  },
  {
   "cell_type": "markdown",
   "metadata": {},
   "source": [
    "# 3. XGBoost, train with Original Dataset sqrt(log(X+1))"
   ]
  },
  {
   "cell_type": "code",
   "execution_count": null,
   "metadata": {},
   "outputs": [],
   "source": [
    "import xgboost as xgb\n",
    "from sklearn.model_selection import cross_val_score\n",
    "from sklearn.model_selection import GridSearchCV\n",
    "from sklearn.metrics import mean_squared_error\n",
    "import pickle"
   ]
  },
  {
   "cell_type": "code",
   "execution_count": null,
   "metadata": {},
   "outputs": [],
   "source": [
    "hyperparameters_dict = {\"learning_rate\": [0.1,0.2,0.3],              # range: [0,1], default = 0.3\n",
    "                   # Minimum loss reduction required to make a further partition on a leaf node of the tree. \n",
    "                   # The larger gamma is, the more conservative the algorithm will be.                   \n",
    "                   \"gamma\": [i/10.0 for i in range(1,10,2)],\n",
    "                   # Maximum depth of a tree. \n",
    "                   # Increasing this value will make the model more complex and more likely to overfit\n",
    "                   \"max_depth\": [6], \n",
    "                   # Used to control over-fitting\n",
    "                   # Too high values can lead to under-fitting hence, it should be tuned using grid search\n",
    "                   \"min_child_weight\": [1],\n",
    "                   # Usually this parameter is not needed, but it might help in logistic regression when class is extremely imbalanced\n",
    "                   \"max_delta_step\": [0],\n",
    "                   # Denotes the fraction of observations to be randomly samples for each tree\n",
    "                   # Typical values: 0.5-1\n",
    "                   \"subsample\": [0.8],\n",
    "                   # Similar to max_features in GBM, Typical values: 0.5 - 1\n",
    "                   # Denotes the fraction of columns to be randomly samples for each tree.\n",
    "                   \"colsample_bytree\": [0.8,1],\n",
    "                   \"colsample_bylevel\": [1], # colsample_bytree will control the decision over this, default = 1\n",
    "                   \"colsample_bynode\": [1],  # colsample_bytree will control the decision over this, default = 1\n",
    "                   # L2 regularization term on weights. Increasing this value will make model more conservative.\n",
    "                   \"reg_lambda\": [1], # default = 1\n",
    "                   # L1 regularization term on weights. Increasing this value will make model more conservative.\n",
    "                   \"reg_alpha\": [1],  # default = 0\n",
    "                   # Control the balance of positive and negative weights, useful for unbalanced classes. \n",
    "                   # A typical value to consider: sum(negative instances) / sum(positive instances)\n",
    "                   \"scale_pos_weight\": [1],\n",
    "                   # No. of trees ensemble, too high sometimes still can cause overfitting\n",
    "                   \"n_estimators\": [300,400], \n",
    "                   \"booster\": [\"gbtree\"],\n",
    "                   \"verbosity\": [1],\n",
    "                   \"objective\": [\"reg:squarederror\"],\n",
    "                   \"seed\": [50]\n",
    "                   }"
   ]
  },
  {
   "cell_type": "code",
   "execution_count": null,
   "metadata": {},
   "outputs": [],
   "source": [
    "# To track the iteration records for parameters tuning\n",
    "best_score_list = []\n",
    "best_params_list = []\n",
    "best_R2_list = []"
   ]
  },
  {
   "cell_type": "code",
   "execution_count": null,
   "metadata": {},
   "outputs": [],
   "source": [
    "hyperparameters_tuning = {'learning_rate': [0.1],               # 6th when boosting\n",
    "                          'gamma': [0.01],                       # 3rd\n",
    "                          'max_depth': [6],                     # 1st to tune\n",
    "                          'min_child_weight': [1],              # 2nd\n",
    "                          'max_delta_step': [0],\n",
    "                          'subsample': [0.7],                   # 4th\n",
    "                          'colsample_bytree': [0.3],            # 4th \n",
    "                          'colsample_bylevel': [1],\n",
    "                          'colsample_bynode': [1],\n",
    "                          'reg_lambda': [1.0],                    # 5th\n",
    "                          'reg_alpha': [0],                     # 5th\n",
    "                          'scale_pos_weight': [1.0],            # only when dealing with imbalance classes\n",
    "                          'n_estimators': [10],                # 1st\n",
    "                          \"booster\": [\"gbtree\"],\n",
    "                          \"verbosity\": [1],\n",
    "                          \"objective\": [\"multi:softmax\"],\n",
    "                          \"eval_metric\": [\"mlogloss\"],\n",
    "                          \"num_class\": [9],\n",
    "                          \"seed\": [50]\n",
    "                         }                "
   ]
  },
  {
   "cell_type": "code",
   "execution_count": null,
   "metadata": {},
   "outputs": [],
   "source": [
    "# General Parameters setting inside Regressor\n",
    "xgboost = xgb.XGBClassifier()"
   ]
  },
  {
   "cell_type": "code",
   "execution_count": null,
   "metadata": {},
   "outputs": [],
   "source": [
    "xgboost_grid = GridSearchCV(estimator = xgboost, param_grid = hyperparameters_tuning, cv = 6, iid = False, scoring = \"accuracy\")"
   ]
  },
  {
   "cell_type": "code",
   "execution_count": null,
   "metadata": {},
   "outputs": [],
   "source": [
    "xgboost_grid.fit(train_x_log_sqrt,train_y_label)"
   ]
  },
  {
   "cell_type": "code",
   "execution_count": null,
   "metadata": {},
   "outputs": [],
   "source": [
    "best_cv_score = xgboost_grid.cv_results_ #thus no need train-test split, as cv will automatic run for us \n",
    "best_params = xgboost_grid.best_params_\n",
    "best_score = xgboost_grid.best_score_\n",
    "best_rf = xgboost_grid.best_estimator_\n",
    "best_accuracy_score = best_rf.score(train_x,train_y_label)\n",
    "best_score_list.append(best_score)\n",
    "best_params_list.append(best_rf)\n",
    "best_R2_list.append(best_R2_score)\n",
    "print(best_score)\n",
    "print(best_accuracy_score)\n",
    "print(best_rf)"
   ]
  },
  {
   "cell_type": "code",
   "execution_count": null,
   "metadata": {},
   "outputs": [],
   "source": [
    "print(best_score_list)\n",
    "print(best_R2_list)\n",
    "print(best_params_list)"
   ]
  },
  {
   "cell_type": "markdown",
   "metadata": {},
   "source": [
    "# Prediction for Kaggle Submission Before Boosting Tuning"
   ]
  },
  {
   "cell_type": "code",
   "execution_count": null,
   "metadata": {},
   "outputs": [],
   "source": [
    "XGBoost_sqrt_log_X_pred = best_rf.predict_proba(test_x_log_sqrt)"
   ]
  },
  {
   "cell_type": "code",
   "execution_count": null,
   "metadata": {},
   "outputs": [],
   "source": [
    "Submission[['Class_1', 'Class_2', 'Class_3', 'Class_4', 'Class_5', 'Class_6',\n",
    "       'Class_7', 'Class_8', 'Class_9']] = XGBoost_sqrt_log_X_pred"
   ]
  },
  {
   "cell_type": "code",
   "execution_count": null,
   "metadata": {},
   "outputs": [],
   "source": [
    "## Creating a Submission File to submit to Kaggle competition ##\n",
    "Submission.to_csv(\"XGBoost_sqrt_log_X_pred.csv\",index=False)"
   ]
  },
  {
   "cell_type": "markdown",
   "metadata": {},
   "source": [
    "# Create XGBoost's DMatrix, after fine tuning the parameters"
   ]
  },
  {
   "cell_type": "code",
   "execution_count": null,
   "metadata": {},
   "outputs": [],
   "source": [
    "trainDMat = xgb.DMatrix(data = train_x_log_sqrt, label = train_y_label)"
   ]
  },
  {
   "cell_type": "code",
   "execution_count": null,
   "metadata": {},
   "outputs": [],
   "source": [
    "# Lower the learning_rate and set a large num_boost_round hyperparameter to ensure convergence. \n",
    "# If convergence is slow, retry with a slightly higher learning rate (e.g. 0.075 instead of 0.05)\n",
    "num_boost_round = 150000\n",
    "early_stopping_rounds = 50\n",
    "# Activates early stopping. CV error needs to decrease at least every <early_stopping_rounds> round(s) to continue.\n",
    "# Last entry in evaluation history is the one from best iteration."
   ]
  },
  {
   "cell_type": "code",
   "execution_count": null,
   "metadata": {},
   "outputs": [],
   "source": [
    "hyperparameters_boosting ={'learning_rate': 0.001,               # 6th when boosting\n",
    "                          'gamma': 0.01,                       # 3rd\n",
    "                          'max_depth': 6,                     # 1st to tune\n",
    "                          'min_child_weight': 1,              # 2nd\n",
    "                          'max_delta_step': 0,\n",
    "                          'subsample': 0.7,                   # 4th\n",
    "                          'colsample_bytree': 0.3,            # 4th \n",
    "                          'colsample_bylevel': 1,\n",
    "                          'colsample_bynode': 1,\n",
    "                          'reg_lambda': 1,                    # 5th\n",
    "                          'reg_alpha': 0,                     # 5th\n",
    "                          'scale_pos_weight': 1.0,            # only when dealing with imbalance classes\n",
    "                          'n_estimators': 87,                # 1st\n",
    "                          \"booster\": \"gbtree\",\n",
    "                          \"verbosity\": 1,\n",
    "                          \"objective\": \"reg:squarederror\",\n",
    "                          \"seed\": 50\n",
    "                         }                                  "
   ]
  },
  {
   "cell_type": "code",
   "execution_count": null,
   "metadata": {},
   "outputs": [],
   "source": [
    "xgbCV = xgb.cv(\n",
    "    params = hyperparameters_boosting, \n",
    "    dtrain = trainDMat, \n",
    "    num_boost_round = num_boost_round,\n",
    "    nfold = 6, #same as CV\n",
    "    metrics = {'rmse'},\n",
    "    early_stopping_rounds = early_stopping_rounds,\n",
    "    verbose_eval = True,     \n",
    ")"
   ]
  },
  {
   "cell_type": "markdown",
   "metadata": {},
   "source": [
    "# Finalise XGBoost Model"
   ]
  },
  {
   "cell_type": "code",
   "execution_count": null,
   "metadata": {},
   "outputs": [],
   "source": [
    "num_boost_round = len(xgbCV)\n",
    "\n",
    "xgbFinal = xgb.train(\n",
    "    params = hyperparameters_boosting, \n",
    "    dtrain = trainDMat, \n",
    "    num_boost_round = num_boost_round,\n",
    ")"
   ]
  },
  {
   "cell_type": "code",
   "execution_count": null,
   "metadata": {},
   "outputs": [],
   "source": [
    "fig, ax = plt.subplots(figsize=(20, 20))\n",
    "xgb.plot_importance(xgbFinal, ax=ax)"
   ]
  },
  {
   "cell_type": "markdown",
   "metadata": {},
   "source": [
    "# Prediction for Kaggle Submission"
   ]
  },
  {
   "cell_type": "code",
   "execution_count": null,
   "metadata": {},
   "outputs": [],
   "source": [
    "XGBoost_sqrt_log_X_pred_boosted = xgbFinal.predict_proba(xgb.DMatrix(test_x_log_sqrt))"
   ]
  },
  {
   "cell_type": "code",
   "execution_count": null,
   "metadata": {},
   "outputs": [],
   "source": [
    "Submission[['Class_1', 'Class_2', 'Class_3', 'Class_4', 'Class_5', 'Class_6',\n",
    "       'Class_7', 'Class_8', 'Class_9']] = XGBoost_sqrt_log_X_pred_boosted"
   ]
  },
  {
   "cell_type": "code",
   "execution_count": null,
   "metadata": {},
   "outputs": [],
   "source": [
    "## Creating a Submission File to submit to Kaggle competition ##\n",
    "Submission.to_csv(\"XGBoost_sqrt_log_X_pred_boosted.csv\",index=False)"
   ]
  },
  {
   "cell_type": "markdown",
   "metadata": {},
   "source": [
    "# Saving the final model"
   ]
  },
  {
   "cell_type": "code",
   "execution_count": null,
   "metadata": {},
   "outputs": [],
   "source": [
    "pickle.dump(xgbFinal, open(\"xgbFinal.pickle.dat\", \"wb\"))"
   ]
  },
  {
   "cell_type": "markdown",
   "metadata": {},
   "source": [
    "# Loading the final model"
   ]
  },
  {
   "cell_type": "code",
   "execution_count": null,
   "metadata": {},
   "outputs": [],
   "source": [
    "xgb_test = pickle.load(open(\"xgbFinal.pickle.dat\", \"rb\"))"
   ]
  },
  {
   "cell_type": "code",
   "execution_count": null,
   "metadata": {},
   "outputs": [],
   "source": [
    "# Re-forecast the prediction to verify the model\n",
    "xgb_test_p = xgb_test.predict_proba(xgb.DMatrix(test_x))"
   ]
  },
  {
   "cell_type": "code",
   "execution_count": null,
   "metadata": {},
   "outputs": [],
   "source": [
    "verify_model = (xgbFinal_submission == xgb_test_p)\n",
    "verify_model.sum()"
   ]
  }
 ],
 "metadata": {
  "kernelspec": {
   "display_name": "Python 3",
   "language": "python",
   "name": "python3"
  },
  "language_info": {
   "codemirror_mode": {
    "name": "ipython",
    "version": 3
   },
   "file_extension": ".py",
   "mimetype": "text/x-python",
   "name": "python",
   "nbconvert_exporter": "python",
   "pygments_lexer": "ipython3",
   "version": "3.7.3"
  }
 },
 "nbformat": 4,
 "nbformat_minor": 2
}
