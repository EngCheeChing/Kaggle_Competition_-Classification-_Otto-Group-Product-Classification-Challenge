{
 "cells": [
  {
   "cell_type": "code",
   "execution_count": 210,
   "metadata": {},
   "outputs": [
    {
     "data": {
      "text/html": [
       "        <script type=\"text/javascript\">\n",
       "        window.PlotlyConfig = {MathJaxConfig: 'local'};\n",
       "        if (window.MathJax) {MathJax.Hub.Config({SVG: {font: \"STIX-Web\"}});}\n",
       "        if (typeof require !== 'undefined') {\n",
       "        require.undef(\"plotly\");\n",
       "        requirejs.config({\n",
       "            paths: {\n",
       "                'plotly': ['https://cdn.plot.ly/plotly-latest.min']\n",
       "            }\n",
       "        });\n",
       "        require(['plotly'], function(Plotly) {\n",
       "            window._Plotly = Plotly;\n",
       "        });\n",
       "        }\n",
       "        </script>\n",
       "        "
      ]
     },
     "metadata": {},
     "output_type": "display_data"
    },
    {
     "data": {
      "text/html": [
       "        <script type=\"text/javascript\">\n",
       "        window.PlotlyConfig = {MathJaxConfig: 'local'};\n",
       "        if (window.MathJax) {MathJax.Hub.Config({SVG: {font: \"STIX-Web\"}});}\n",
       "        if (typeof require !== 'undefined') {\n",
       "        require.undef(\"plotly\");\n",
       "        requirejs.config({\n",
       "            paths: {\n",
       "                'plotly': ['https://cdn.plot.ly/plotly-latest.min']\n",
       "            }\n",
       "        });\n",
       "        require(['plotly'], function(Plotly) {\n",
       "            window._Plotly = Plotly;\n",
       "        });\n",
       "        }\n",
       "        </script>\n",
       "        "
      ]
     },
     "metadata": {},
     "output_type": "display_data"
    }
   ],
   "source": [
    "import pandas as pd\n",
    "import numpy as np\n",
    "from sklearn.metrics import mean_squared_error,mean_absolute_error\n",
    "from plotly.offline import iplot, init_notebook_mode\n",
    "import cufflinks\n",
    "cufflinks.go_offline(connected=True)\n",
    "init_notebook_mode(connected=True)\n",
    "from statsmodels.tools.eval_measures import rmse\n",
    "from sklearn.model_selection import cross_val_score\n",
    "from sklearn.model_selection import train_test_split\n",
    "pd.set_option('display.max_row', 50)\n",
    "pd.set_option('display.max_column', 250)\n",
    "\n",
    "import warnings\n",
    "warnings.filterwarnings('ignore')"
   ]
  },
  {
   "cell_type": "code",
   "execution_count": 79,
   "metadata": {},
   "outputs": [],
   "source": [
    "train = pd.read_csv(\"train.csv\")\n",
    "test = pd.read_csv(\"test.csv\")\n",
    "Submission = pd.read_csv(\"sampleSubmission.csv\")"
   ]
  },
  {
   "cell_type": "code",
   "execution_count": 80,
   "metadata": {},
   "outputs": [],
   "source": [
    "train_x = train.drop([\"target\",\"id\"],axis=1)\n",
    "train_y = pd.DataFrame(train[\"target\"])\n",
    "test_x = test.drop(\"id\", axis=1)"
   ]
  },
  {
   "cell_type": "code",
   "execution_count": 81,
   "metadata": {},
   "outputs": [],
   "source": [
    "from sklearn.preprocessing import LabelEncoder\n",
    "le = LabelEncoder()\n",
    "train_y_label = pd.DataFrame((le.fit_transform(train_y)))"
   ]
  },
  {
   "cell_type": "code",
   "execution_count": 82,
   "metadata": {},
   "outputs": [],
   "source": [
    "def create_dummies(df,column_name):\n",
    "    dummies = pd.get_dummies(df[column_name],prefix=column_name)\n",
    "    df = pd.concat([df,dummies],axis=1)\n",
    "    return df\n",
    "\n",
    "train_y_class = create_dummies(train_y,\"target\").drop(\"target\",axis=1)"
   ]
  },
  {
   "cell_type": "code",
   "execution_count": 83,
   "metadata": {},
   "outputs": [],
   "source": [
    "# Features Transformation\n",
    "train_x_log = train_x.apply(lambda x: np.log(x+1))\n",
    "test_x_log = test_x.apply(lambda x: np.log(x+1))\n",
    "train_x_log_sqrt = train_x.apply(lambda x: np.sqrt(np.log(x+1)))\n",
    "test_x_log_sqrt = test_x.apply(lambda x: np.sqrt(np.log(x+1)))"
   ]
  },
  {
   "cell_type": "code",
   "execution_count": 84,
   "metadata": {},
   "outputs": [],
   "source": [
    "# To check the unique columns value no. between train and test set\n",
    "compare_list = []\n",
    "for columns in train_x.columns:\n",
    "    a = len(train_x[columns].unique())\n",
    "    b = len(test_x[columns].unique())\n",
    "    if a != b:\n",
    "        compare_list.append(columns)   "
   ]
  },
  {
   "cell_type": "code",
   "execution_count": 85,
   "metadata": {},
   "outputs": [
    {
     "name": "stdout",
     "output_type": "stream",
     "text": [
      "(61878, 93)\n",
      "(144368, 93)\n",
      "(61878, 93)\n",
      "(144368, 93)\n",
      "(61878, 93)\n",
      "(144368, 93)\n",
      "(61878, 9)\n",
      "(61878, 1)\n"
     ]
    }
   ],
   "source": [
    "print(train_x.shape)\n",
    "print(test_x.shape)\n",
    "print(train_x_log.shape)\n",
    "print(test_x_log.shape)\n",
    "print(train_x_log_sqrt.shape)\n",
    "print(test_x_log_sqrt.shape)\n",
    "print(train_y_class.shape)\n",
    "print(train_y_label.shape)"
   ]
  },
  {
   "cell_type": "markdown",
   "metadata": {},
   "source": [
    "# Feature Enginnering on the Raw Data"
   ]
  },
  {
   "cell_type": "code",
   "execution_count": 149,
   "metadata": {},
   "outputs": [],
   "source": [
    "train_x_enginnering = train_x.copy()\n",
    "test_x_enginnering = test_x.copy()\n",
    "ori_columns = train_x_enginnering.columns"
   ]
  },
  {
   "cell_type": "code",
   "execution_count": 150,
   "metadata": {},
   "outputs": [],
   "source": [
    "train_x_enginnering[\"sum_of_row\"] = train_x_enginnering[ori_columns].sum(axis=1)\n",
    "test_x_enginnering[\"sum_of_row\"] = test_x_enginnering[ori_columns].sum(axis=1)\n",
    "train_x_enginnering[\"sum_of_zero\"] = (train_x_enginnering[ori_columns] == 0).sum(axis=1)\n",
    "test_x_enginnering[\"sum_of_zero\"] = (test_x_enginnering[ori_columns] == 0).sum(axis=1)\n",
    "train_x_enginnering[\"sum_of_non_zero\"] = (train_x_enginnering[ori_columns] != 0).sum(axis=1)\n",
    "test_x_enginnering[\"sum_of_non_zero\"] = (test_x_enginnering[ori_columns] != 0).sum(axis=1)\n",
    "train_x_enginnering[\"sum_of_value_one\"] = (train_x_enginnering[ori_columns] == 1).sum(axis=1)\n",
    "test_x_enginnering[\"sum_of_value_one\"] = (test_x_enginnering[ori_columns] == 1).sum(axis=1)\n",
    "train_x_enginnering[\"sum_of_value_two\"] = (train_x_enginnering[ori_columns] == 2).sum(axis=1)\n",
    "test_x_enginnering[\"sum_of_value_two\"] = (test_x_enginnering[ori_columns] == 2).sum(axis=1)\n",
    "train_x_enginnering[\"sum_of_value_three\"] = (train_x_enginnering[ori_columns] == 3).sum(axis=1)\n",
    "test_x_enginnering[\"sum_of_value_three\"] = (test_x_enginnering[ori_columns] == 3).sum(axis=1)\n",
    "train_x_enginnering[\"max_row_value\"] = train_x_enginnering[ori_columns].max(axis=1)\n",
    "test_x_enginnering[\"max_row_value\"] = test_x_enginnering[ori_columns].max(axis=1)"
   ]
  },
  {
   "cell_type": "markdown",
   "metadata": {},
   "source": [
    "# KNN prediction as features with different K-Values"
   ]
  },
  {
   "cell_type": "code",
   "execution_count": 9,
   "metadata": {},
   "outputs": [],
   "source": [
    "from sklearn.neighbors import KNeighborsClassifier"
   ]
  },
  {
   "cell_type": "code",
   "execution_count": 10,
   "metadata": {},
   "outputs": [],
   "source": [
    "KNN_2 = KNeighborsClassifier(n_neighbors=2)\n",
    "KNN_4 = KNeighborsClassifier(n_neighbors=4)\n",
    "KNN_8 = KNeighborsClassifier(n_neighbors=8)\n",
    "KNN_16 = KNeighborsClassifier(n_neighbors=16)\n",
    "KNN_32 = KNeighborsClassifier(n_neighbors=32)\n",
    "KNN_64 = KNeighborsClassifier(n_neighbors=64)\n",
    "KNN_128 = KNeighborsClassifier(n_neighbors=128)\n",
    "KNN_256 = KNeighborsClassifier(n_neighbors=256)\n",
    "KNN_512 = KNeighborsClassifier(n_neighbors=512)\n",
    "KNN_1024 = KNeighborsClassifier(n_neighbors=1024)\n",
    "KNN_2048 = KNeighborsClassifier(n_neighbors=2048)"
   ]
  },
  {
   "cell_type": "code",
   "execution_count": 11,
   "metadata": {},
   "outputs": [
    {
     "data": {
      "text/plain": [
       "KNeighborsClassifier(algorithm='auto', leaf_size=30, metric='minkowski',\n",
       "           metric_params=None, n_jobs=None, n_neighbors=2048, p=2,\n",
       "           weights='uniform')"
      ]
     },
     "execution_count": 11,
     "metadata": {},
     "output_type": "execute_result"
    }
   ],
   "source": [
    "KNN_2.fit(train_x,train_y_label)\n",
    "KNN_4.fit(train_x,train_y_label)\n",
    "KNN_8.fit(train_x,train_y_label)\n",
    "KNN_16.fit(train_x,train_y_label)\n",
    "KNN_32.fit(train_x,train_y_label)\n",
    "KNN_64.fit(train_x,train_y_label)\n",
    "KNN_128.fit(train_x,train_y_label)\n",
    "KNN_256.fit(train_x,train_y_label)\n",
    "KNN_512.fit(train_x,train_y_label)\n",
    "KNN_1024.fit(train_x,train_y_label)\n",
    "KNN_2048.fit(train_x,train_y_label)"
   ]
  },
  {
   "cell_type": "code",
   "execution_count": 12,
   "metadata": {},
   "outputs": [
    {
     "name": "stdout",
     "output_type": "stream",
     "text": [
      "0.8786644687934322\n",
      "0.8545686673777433\n",
      "0.8236691554348881\n",
      "0.8029832896990853\n",
      "0.7851094088367433\n",
      "0.7673809754678561\n",
      "0.7519958628268528\n",
      "0.7351562752513009\n",
      "0.7159895277804712\n",
      "0.6919422088626006\n",
      "0.6627395843433854\n"
     ]
    }
   ],
   "source": [
    "KNN_2_score = KNN_2.score(train_x,train_y_label)\n",
    "KNN_4_score = KNN_4.score(train_x,train_y_label)\n",
    "KNN_8_score = KNN_8.score(train_x,train_y_label)\n",
    "KNN_16_score = KNN_16.score(train_x,train_y_label)\n",
    "KNN_32_score = KNN_32.score(train_x,train_y_label)\n",
    "KNN_64_score = KNN_64.score(train_x,train_y_label)\n",
    "KNN_128_score = KNN_128.score(train_x,train_y_label)\n",
    "KNN_256_score = KNN_256.score(train_x,train_y_label)\n",
    "KNN_512_score = KNN_512.score(train_x,train_y_label)\n",
    "KNN_1024_score = KNN_1024.score(train_x,train_y_label)\n",
    "KNN_2048_score = KNN_2048.score(train_x,train_y_label)\n",
    "print(KNN_2_score)\n",
    "print(KNN_4_score)\n",
    "print(KNN_8_score)\n",
    "print(KNN_16_score)\n",
    "print(KNN_32_score)\n",
    "print(KNN_64_score)\n",
    "print(KNN_128_score)\n",
    "print(KNN_256_score)\n",
    "print(KNN_512_score)\n",
    "print(KNN_1024_score)\n",
    "print(KNN_2048_score)"
   ]
  },
  {
   "cell_type": "markdown",
   "metadata": {},
   "source": [
    "## KNN features for Test Dataset"
   ]
  },
  {
   "cell_type": "code",
   "execution_count": 13,
   "metadata": {},
   "outputs": [],
   "source": [
    "KNN_2_pred = pd.DataFrame(KNN_2.predict_proba(test_x))\n",
    "KNN_4_pred = pd.DataFrame(KNN_4.predict_proba(test_x))\n",
    "KNN_8_pred = pd.DataFrame(KNN_8.predict_proba(test_x))\n",
    "KNN_16_pred = pd.DataFrame(KNN_16.predict_proba(test_x))\n",
    "KNN_32_pred = pd.DataFrame(KNN_32.predict_proba(test_x))\n",
    "KNN_64_pred = pd.DataFrame(KNN_64.predict_proba(test_x))\n",
    "KNN_128_pred = pd.DataFrame(KNN_128.predict_proba(test_x))\n",
    "KNN_256_pred = pd.DataFrame(KNN_256.predict_proba(test_x))\n",
    "KNN_512_pred = pd.DataFrame(KNN_512.predict_proba(test_x))\n",
    "KNN_1024_pred = pd.DataFrame(KNN_1024.predict_proba(test_x))\n",
    "KNN_2048_pred = pd.DataFrame(KNN_2048.predict_proba(test_x))"
   ]
  },
  {
   "cell_type": "code",
   "execution_count": 43,
   "metadata": {},
   "outputs": [],
   "source": [
    "KNN_Test_Features = pd.concat([KNN_2_pred,KNN_4_pred,KNN_8_pred,KNN_16_pred,KNN_32_pred, KNN_64_pred,\n",
    "                               KNN_128_pred,KNN_256_pred,KNN_512_pred,KNN_1024_pred,KNN_2048_pred], axis = 1)\n",
    "KNN_Test_Features.columns = [\"KNN_Feature_\" + str(i) for i in range(1,100,1)]"
   ]
  },
  {
   "cell_type": "code",
   "execution_count": 14,
   "metadata": {},
   "outputs": [],
   "source": [
    "Submission_KNN_2 = pd.read_csv(\"sampleSubmission.csv\")\n",
    "Submission_KNN_4 = pd.read_csv(\"sampleSubmission.csv\")\n",
    "Submission_KNN_8 = pd.read_csv(\"sampleSubmission.csv\")\n",
    "Submission_KNN_16 = pd.read_csv(\"sampleSubmission.csv\")\n",
    "Submission_KNN_32 = pd.read_csv(\"sampleSubmission.csv\")\n",
    "Submission_KNN_64 = pd.read_csv(\"sampleSubmission.csv\")\n",
    "Submission_KNN_128 = pd.read_csv(\"sampleSubmission.csv\")\n",
    "Submission_KNN_256 = pd.read_csv(\"sampleSubmission.csv\")\n",
    "Submission_KNN_512 = pd.read_csv(\"sampleSubmission.csv\")\n",
    "Submission_KNN_1024 = pd.read_csv(\"sampleSubmission.csv\")\n",
    "Submission_KNN_2048 = pd.read_csv(\"sampleSubmission.csv\")"
   ]
  },
  {
   "cell_type": "code",
   "execution_count": 15,
   "metadata": {},
   "outputs": [],
   "source": [
    "KNN_columns = ['Class_1', 'Class_2', 'Class_3', 'Class_4', 'Class_5', 'Class_6',\n",
    "       'Class_7', 'Class_8', 'Class_9']\n",
    "Submission_KNN_2[KNN_columns] = KNN_2_pred\n",
    "Submission_KNN_4[KNN_columns] = KNN_4_pred\n",
    "Submission_KNN_8[KNN_columns] = KNN_8_pred\n",
    "Submission_KNN_16[KNN_columns] = KNN_16_pred\n",
    "Submission_KNN_32[KNN_columns] = KNN_32_pred\n",
    "Submission_KNN_64[KNN_columns] = KNN_64_pred\n",
    "Submission_KNN_128[KNN_columns] = KNN_128_pred\n",
    "Submission_KNN_256[KNN_columns] = KNN_256_pred\n",
    "Submission_KNN_512[KNN_columns] = KNN_512_pred\n",
    "Submission_KNN_1024[KNN_columns] = KNN_1024_pred\n",
    "Submission_KNN_2048[KNN_columns] = KNN_2048_pred"
   ]
  },
  {
   "cell_type": "code",
   "execution_count": 16,
   "metadata": {},
   "outputs": [],
   "source": [
    "Submission_KNN_2.to_csv(\"KNN_2_pred.csv\",index=False)\n",
    "Submission_KNN_4.to_csv(\"KNN_4_pred.csv\",index=False)\n",
    "Submission_KNN_8.to_csv(\"KNN_8_pred.csv\",index=False)\n",
    "Submission_KNN_16.to_csv(\"KNN_16_pred.csv\",index=False)\n",
    "Submission_KNN_32.to_csv(\"KNN_32_pred.csv\",index=False)\n",
    "Submission_KNN_64.to_csv(\"KNN_64_pred.csv\",index=False)\n",
    "Submission_KNN_128.to_csv(\"KNN_128_pred.csv\",index=False)\n",
    "Submission_KNN_256.to_csv(\"KNN_256_pred.csv\",index=False)\n",
    "Submission_KNN_512.to_csv(\"KNN_512_pred.csv\",index=False)\n",
    "Submission_KNN_1024.to_csv(\"KNN_1024_pred.csv\",index=False)\n",
    "Submission_KNN_2048.to_csv(\"KNN_2048_pred.csv\",index=False)"
   ]
  },
  {
   "cell_type": "markdown",
   "metadata": {},
   "source": [
    "## KNN features for Train Dataset"
   ]
  },
  {
   "cell_type": "code",
   "execution_count": 17,
   "metadata": {},
   "outputs": [],
   "source": [
    "KNN_2_x_pred = pd.DataFrame(KNN_2.predict_proba(train_x))\n",
    "KNN_4_x_pred = pd.DataFrame(KNN_4.predict_proba(train_x))\n",
    "KNN_8_x_pred = pd.DataFrame(KNN_8.predict_proba(train_x))\n",
    "KNN_16_x_pred = pd.DataFrame(KNN_16.predict_proba(train_x))\n",
    "KNN_32_x_pred = pd.DataFrame(KNN_32.predict_proba(train_x))\n",
    "KNN_64_x_pred = pd.DataFrame(KNN_64.predict_proba(train_x))\n",
    "KNN_128_x_pred = pd.DataFrame(KNN_128.predict_proba(train_x))\n",
    "KNN_256_x_pred = pd.DataFrame(KNN_256.predict_proba(train_x))\n",
    "KNN_512_x_pred = pd.DataFrame(KNN_512.predict_proba(train_x))\n",
    "KNN_1024_x_pred = pd.DataFrame(KNN_1024.predict_proba(train_x))\n",
    "KNN_2048_x_pred = pd.DataFrame(KNN_2048.predict_proba(train_x))"
   ]
  },
  {
   "cell_type": "code",
   "execution_count": 45,
   "metadata": {},
   "outputs": [],
   "source": [
    "KNN_Train_Features = pd.concat([KNN_2_x_pred,KNN_4_x_pred,KNN_8_x_pred,KNN_16_x_pred,KNN_32_x_pred, KNN_64_x_pred,\n",
    "                               KNN_128_x_pred,KNN_256_x_pred,KNN_512_x_pred,KNN_1024_x_pred,KNN_2048_x_pred], axis = 1)\n",
    "KNN_Train_Features.columns = [\"KNN_Feature_\" + str(i) for i in range(1,100,1)]"
   ]
  },
  {
   "cell_type": "code",
   "execution_count": 18,
   "metadata": {},
   "outputs": [],
   "source": [
    "Submission_KNN_2_Train = pd.read_csv(\"sampleSubmission.csv\")\n",
    "Submission_KNN_4_Train = pd.read_csv(\"sampleSubmission.csv\")\n",
    "Submission_KNN_8_Train = pd.read_csv(\"sampleSubmission.csv\")\n",
    "Submission_KNN_16_Train = pd.read_csv(\"sampleSubmission.csv\")\n",
    "Submission_KNN_32_Train = pd.read_csv(\"sampleSubmission.csv\")\n",
    "Submission_KNN_64_Train = pd.read_csv(\"sampleSubmission.csv\")\n",
    "Submission_KNN_128_Train = pd.read_csv(\"sampleSubmission.csv\")\n",
    "Submission_KNN_256_Train = pd.read_csv(\"sampleSubmission.csv\")\n",
    "Submission_KNN_512_Train = pd.read_csv(\"sampleSubmission.csv\")\n",
    "Submission_KNN_1024_Train = pd.read_csv(\"sampleSubmission.csv\")\n",
    "Submission_KNN_2048_Train = pd.read_csv(\"sampleSubmission.csv\")"
   ]
  },
  {
   "cell_type": "code",
   "execution_count": 19,
   "metadata": {},
   "outputs": [],
   "source": [
    "KNN_columns = ['Class_1', 'Class_2', 'Class_3', 'Class_4', 'Class_5', 'Class_6',\n",
    "       'Class_7', 'Class_8', 'Class_9']\n",
    "Submission_KNN_2_Train[KNN_columns] = KNN_2_x_pred\n",
    "Submission_KNN_4_Train[KNN_columns] = KNN_4_x_pred\n",
    "Submission_KNN_8_Train[KNN_columns] = KNN_8_x_pred\n",
    "Submission_KNN_16_Train[KNN_columns] = KNN_16_x_pred\n",
    "Submission_KNN_32_Train[KNN_columns] = KNN_32_x_pred\n",
    "Submission_KNN_64_Train[KNN_columns] = KNN_64_x_pred\n",
    "Submission_KNN_128_Train[KNN_columns] = KNN_128_x_pred\n",
    "Submission_KNN_256_Train[KNN_columns] = KNN_256_x_pred\n",
    "Submission_KNN_512_Train[KNN_columns] = KNN_512_x_pred\n",
    "Submission_KNN_1024_Train[KNN_columns] = KNN_1024_x_pred\n",
    "Submission_KNN_2048_Train[KNN_columns] = KNN_2048_x_pred"
   ]
  },
  {
   "cell_type": "code",
   "execution_count": 20,
   "metadata": {},
   "outputs": [],
   "source": [
    "Submission_KNN_2_Train.to_csv(\"KNN_2_x_pred.csv\",index=False)\n",
    "Submission_KNN_4_Train.to_csv(\"KNN_4_x_pred.csv\",index=False)\n",
    "Submission_KNN_8_Train.to_csv(\"KNN_8_x_pred.csv\",index=False)\n",
    "Submission_KNN_16_Train.to_csv(\"KNN_16_x_pred.csv\",index=False)\n",
    "Submission_KNN_32_Train.to_csv(\"KNN_32_x_pred.csv\",index=False)\n",
    "Submission_KNN_64_Train.to_csv(\"KNN_64_x_pred.csv\",index=False)\n",
    "Submission_KNN_128_Train.to_csv(\"KNN_128_x_pred.csv\",index=False)\n",
    "Submission_KNN_256_Train.to_csv(\"KNN_256_x_pred.csv\",index=False)\n",
    "Submission_KNN_512_Train.to_csv(\"KNN_512_x_pred.csv\",index=False)\n",
    "Submission_KNN_1024_Train.to_csv(\"KNN_1024_x_pred.csv\",index=False)\n",
    "Submission_KNN_2048_Train.to_csv(\"KNN_2048_x_pred.csv\",index=False)"
   ]
  },
  {
   "cell_type": "markdown",
   "metadata": {},
   "source": [
    "# t-distributed Stochastic Neighbor Embedding (TSNE) feature engineering for Train & Test Dataset (X)"
   ]
  },
  {
   "cell_type": "code",
   "execution_count": 21,
   "metadata": {},
   "outputs": [],
   "source": [
    "from sklearn.manifold import TSNE"
   ]
  },
  {
   "cell_type": "code",
   "execution_count": 22,
   "metadata": {},
   "outputs": [],
   "source": [
    "TSNE_2D = TSNE(n_components=2, random_state=0)\n",
    "TSNE_3D = TSNE(n_components=3, random_state=0)"
   ]
  },
  {
   "cell_type": "code",
   "execution_count": 23,
   "metadata": {},
   "outputs": [],
   "source": [
    "train_x_2d = TSNE_2D.fit_transform(train_x)\n",
    "train_x_3d = TSNE_3D.fit_transform(train_x)\n",
    "test_x_2d = TSNE_2D.fit_transform(test_x)\n",
    "test_x_3d = TSNE_3D.fit_transform(test_x)"
   ]
  },
  {
   "cell_type": "code",
   "execution_count": 24,
   "metadata": {},
   "outputs": [],
   "source": [
    "train_x_2d = pd.DataFrame(train_x_2d)\n",
    "train_x_3d = pd.DataFrame(train_x_3d)\n",
    "test_x_2d = pd.DataFrame(test_x_2d)\n",
    "test_x_3d = pd.DataFrame(test_x_3d)"
   ]
  },
  {
   "cell_type": "code",
   "execution_count": 25,
   "metadata": {},
   "outputs": [],
   "source": [
    "train_x_TSNE = pd.concat([train_x_2d,train_x_3d],axis=1)\n",
    "test_x_TSNE = pd.concat([test_x_2d,test_x_3d],axis=1)"
   ]
  },
  {
   "cell_type": "code",
   "execution_count": 54,
   "metadata": {},
   "outputs": [],
   "source": [
    "train_x_TSNE.columns = [\"2D_1\",\"2D_2\",\"3D_1\",\"3D_2\",\"3D_3\"]\n",
    "test_x_TSNE.columns = [\"2D_1\",\"2D_2\",\"3D_1\",\"3D_2\",\"3D_3\"]"
   ]
  },
  {
   "cell_type": "code",
   "execution_count": 26,
   "metadata": {},
   "outputs": [],
   "source": [
    "train_x_TSNE.to_csv(\"train_x_TSNE.csv\",index=False)\n",
    "test_x_TSNE.to_csv(\"test_x_TSNE.csv\",index=False)"
   ]
  },
  {
   "cell_type": "markdown",
   "metadata": {},
   "source": [
    "# t-distributed Stochastic Neighbor Embedding (TSNE) feature engineering for Train & Test Dataset log(X+1)"
   ]
  },
  {
   "cell_type": "code",
   "execution_count": 27,
   "metadata": {},
   "outputs": [],
   "source": [
    "from sklearn.manifold import TSNE"
   ]
  },
  {
   "cell_type": "code",
   "execution_count": 28,
   "metadata": {},
   "outputs": [],
   "source": [
    "TSNE_log_2D = TSNE(n_components=2, random_state=0)\n",
    "TSNE_log_3D = TSNE(n_components=3, random_state=0)"
   ]
  },
  {
   "cell_type": "code",
   "execution_count": 29,
   "metadata": {},
   "outputs": [],
   "source": [
    "train_log_x_2d = TSNE_log_2D.fit_transform(train_x_log)\n",
    "train_log_x_3d = TSNE_log_3D.fit_transform(train_x_log)\n",
    "test_log_x_2d = TSNE_log_2D.fit_transform(test_x_log)\n",
    "test_log_x_3d = TSNE_log_3D.fit_transform(test_x_log)"
   ]
  },
  {
   "cell_type": "code",
   "execution_count": 30,
   "metadata": {},
   "outputs": [],
   "source": [
    "train_log_x_2d = pd.DataFrame(train_log_x_2d)\n",
    "train_log_x_3d = pd.DataFrame(train_log_x_3d)\n",
    "test_log_x_2d = pd.DataFrame(test_log_x_2d)\n",
    "test_log_x_3d = pd.DataFrame(test_log_x_3d)"
   ]
  },
  {
   "cell_type": "code",
   "execution_count": 195,
   "metadata": {},
   "outputs": [],
   "source": [
    "train_log_x_TSNE = pd.concat([train_log_x_2d,train_log_x_3d],axis=1)\n",
    "test_log_x_TSNE = pd.concat([test_log_x_2d,test_log_x_3d],axis=1)"
   ]
  },
  {
   "cell_type": "code",
   "execution_count": 196,
   "metadata": {},
   "outputs": [],
   "source": [
    "train_log_x_TSNE.columns = [\"log_2D_1\",\"log_2D_2\",\"log_3D_1\",\"log_3D_2\",\"log_3D_3\"]\n",
    "test_log_x_TSNE.columns = [\"log_2D_1\",\"log_2D_2\",\"log_3D_1\",\"log_3D_2\",\"log_3D_3\"]"
   ]
  },
  {
   "cell_type": "code",
   "execution_count": 32,
   "metadata": {},
   "outputs": [],
   "source": [
    "train_log_x_TSNE.to_csv(\"train_log_x_TSNE.csv\",index=False)\n",
    "test_log_x_TSNE.to_csv(\"test_log_x_TSNE.csv\",index=False)"
   ]
  },
  {
   "cell_type": "markdown",
   "metadata": {},
   "source": [
    "# K-means clustering feature engineering for Train & Test Dataset"
   ]
  },
  {
   "cell_type": "code",
   "execution_count": 33,
   "metadata": {},
   "outputs": [],
   "source": [
    "from sklearn.cluster import KMeans"
   ]
  },
  {
   "cell_type": "code",
   "execution_count": 34,
   "metadata": {},
   "outputs": [],
   "source": [
    "Kmeans = KMeans(n_clusters=9,random_state=0)"
   ]
  },
  {
   "cell_type": "code",
   "execution_count": 35,
   "metadata": {},
   "outputs": [],
   "source": [
    "train_x_fit = Kmeans.fit(train_x)\n",
    "train_x_pred = pd.DataFrame(Kmeans.predict(train_x), columns=[\"Class\"])\n",
    "test_x_pred = pd.DataFrame(Kmeans.predict(test_x), columns=[\"Class\"])\n",
    "train_x_cluster_space = pd.DataFrame(Kmeans.transform(train_x), columns=[\"cluster_space_\" + str(i) for i in range(0,9,1)])\n",
    "test_x_cluster_space = pd.DataFrame(Kmeans.transform(test_x), columns=[\"cluster_space_\" + str(i) for i in range(0,9,1)])"
   ]
  },
  {
   "cell_type": "code",
   "execution_count": 36,
   "metadata": {},
   "outputs": [],
   "source": [
    "train_x_pred_dummy = create_dummies(train_x_pred,\"Class\").drop(\"Class\",axis=1)\n",
    "test_x_pred_dummy = create_dummies(test_x_pred,\"Class\").drop(\"Class\",axis=1)"
   ]
  },
  {
   "cell_type": "code",
   "execution_count": 37,
   "metadata": {},
   "outputs": [],
   "source": [
    "train_x_KMeans = pd.concat([train_x_pred_dummy,train_x_cluster_space],axis=1)\n",
    "test_x_KMeans = pd.concat([test_x_pred_dummy,test_x_cluster_space],axis=1)"
   ]
  },
  {
   "cell_type": "code",
   "execution_count": 38,
   "metadata": {},
   "outputs": [],
   "source": [
    "train_x_KMeans.to_csv(\"train_x_KMeans.csv\",index=False)\n",
    "test_x_KMeans.to_csv(\"test_x_KMeans.csv\",index=False)"
   ]
  },
  {
   "cell_type": "markdown",
   "metadata": {},
   "source": [
    "# Dataset Summary\n",
    "### Train & Test set processed with various Features Engineering, and ready to feed with algorithms"
   ]
  },
  {
   "cell_type": "code",
   "execution_count": 198,
   "metadata": {},
   "outputs": [],
   "source": [
    "train_x_with_KNN = pd.concat([train_x,KNN_Train_Features],axis=1)\n",
    "test_x_with_KNN = pd.concat([test_x,KNN_Test_Features],axis=1)"
   ]
  },
  {
   "cell_type": "code",
   "execution_count": 199,
   "metadata": {},
   "outputs": [],
   "source": [
    "train_x_with_TSNE = pd.concat([train_x,train_x_TSNE,train_log_x_TSNE],axis=1)\n",
    "test_x_with_TSNE = pd.concat([test_x,test_x_TSNE,test_log_x_TSNE],axis=1)"
   ]
  },
  {
   "cell_type": "code",
   "execution_count": 200,
   "metadata": {},
   "outputs": [],
   "source": [
    "train_x_with_KMeans = pd.concat([train_x,train_x_KMeans],axis=1)\n",
    "test_x_with_Kmeans = pd.concat([test_x,test_x_KMeans],axis=1)"
   ]
  },
  {
   "cell_type": "code",
   "execution_count": 201,
   "metadata": {},
   "outputs": [],
   "source": [
    "train_x_with_KNN_TSNE =  pd.concat([train_x_with_KNN,train_x_TSNE,train_log_x_TSNE],axis=1)\n",
    "test_x_with_KNN_TSNE =  pd.concat([test_x_with_KNN,test_x_TSNE,test_log_x_TSNE],axis=1)"
   ]
  },
  {
   "cell_type": "code",
   "execution_count": 202,
   "metadata": {},
   "outputs": [],
   "source": [
    "train_x_with_KNN_TSNE_KMean =  pd.concat([train_x_with_KNN_TSNE,train_x_KMeans],axis=1)\n",
    "test_x_with_KNN_TSNE_Kmean =  pd.concat([test_x_with_KNN_TSNE,test_x_KMeans],axis=1)"
   ]
  },
  {
   "cell_type": "code",
   "execution_count": 203,
   "metadata": {},
   "outputs": [],
   "source": [
    "train_x_eng_with_KNN_TSNE_KMean =  pd.concat([train_x_enginnering,KNN_Train_Features,train_x_TSNE,train_log_x_TSNE,train_x_KMeans],axis=1)\n",
    "test_x_eng_with_KNN_TSNE_Kmean =  pd.concat([test_x_enginnering,KNN_Test_Features,test_x_TSNE,test_log_x_TSNE,test_x_KMeans],axis=1)"
   ]
  },
  {
   "cell_type": "code",
   "execution_count": 230,
   "metadata": {},
   "outputs": [],
   "source": [
    "train_x_log_eng_with_KNN_TSNE_KMean = train_x_eng_with_KNN_TSNE_KMean.copy()\n",
    "test_x_log_eng_with_KNN_TSNE_Kmean = test_x_eng_with_KNN_TSNE_Kmean.copy()\n",
    "train_x_log_eng_with_KNN_TSNE_KMean.loc[:,\"feat_1\":\"max_row_value\"] = train_x_eng_with_KNN_TSNE_KMean.loc[:,\"feat_1\":\"max_row_value\"].apply(lambda x: np.log(x+1))\n",
    "test_x_log_eng_with_KNN_TSNE_Kmean.loc[:,\"feat_1\":\"max_row_value\"] = test_x_eng_with_KNN_TSNE_Kmean.loc[:,\"feat_1\":\"max_row_value\"].apply(lambda x: np.log(x+1))"
   ]
  },
  {
   "cell_type": "code",
   "execution_count": 231,
   "metadata": {},
   "outputs": [
    {
     "name": "stdout",
     "output_type": "stream",
     "text": [
      "(61878, 227)\n",
      "(144368, 227)\n",
      "0\n",
      "0\n",
      "0\n",
      "0\n"
     ]
    }
   ],
   "source": [
    "print(train_x_eng_with_KNN_TSNE_KMean.shape)\n",
    "print(test_x_eng_with_KNN_TSNE_Kmean.shape)\n",
    "print(train_x_eng_with_KNN_TSNE_KMean.isnull().sum().sum())\n",
    "print(test_x_eng_with_KNN_TSNE_Kmean.isnull().sum().sum())\n",
    "print(train_x_log_eng_with_KNN_TSNE_KMean.isnull().sum().sum())\n",
    "print(test_x_log_eng_with_KNN_TSNE_Kmean.isnull().sum().sum())"
   ]
  },
  {
   "cell_type": "code",
   "execution_count": 233,
   "metadata": {},
   "outputs": [],
   "source": [
    "train_x_eng_with_KNN_TSNE_KMean.to_csv(\"train_x_eng_with_KNN_TSNE_KMean.csv\",index=False)\n",
    "test_x_eng_with_KNN_TSNE_Kmean.to_csv(\"test_x_eng_with_KNN_TSNE_Kmean.csv\",index=False)\n",
    "train_x_log_eng_with_KNN_TSNE_KMean.to_csv(\"train_x_log_eng_with_KNN_TSNE_KMean.csv\",index=False)\n",
    "test_x_log_eng_with_KNN_TSNE_Kmean.to_csv(\"test_x_log_eng_with_KNN_TSNE_Kmean.csv\",index=False)"
   ]
  },
  {
   "cell_type": "code",
   "execution_count": 235,
   "metadata": {},
   "outputs": [],
   "source": [
    "train_x.to_csv(\"train_x.csv\",index=False)\n",
    "test_x.to_csv(\"test_x.csv\",index=False)\n",
    "train_x_log.to_csv(\"train_x_log.csv\",index=False)\n",
    "test_x_log.to_csv(\"test_x_log.csv\",index=False)\n",
    "train_y_class.to_csv(\"train_y_class.csv\",index=False)\n",
    "train_y_label.to_csv(\"train_y_label.csv\",index=False)"
   ]
  },
  {
   "cell_type": "code",
   "execution_count": 234,
   "metadata": {},
   "outputs": [
    {
     "name": "stdout",
     "output_type": "stream",
     "text": [
      "(61878, 93)\n",
      "(144368, 93)\n",
      "(61878, 93)\n",
      "(144368, 93)\n",
      "(61878, 227)\n",
      "(144368, 227)\n",
      "(61878, 227)\n",
      "(144368, 227)\n",
      "(61878, 9)\n",
      "(61878, 1)\n"
     ]
    }
   ],
   "source": [
    "# Total dataset features to consider\n",
    "print(train_x.shape)\n",
    "print(test_x.shape)\n",
    "print(train_x_log.shape)\n",
    "print(test_x_log.shape)\n",
    "print(train_x_eng_with_KNN_TSNE_KMean.shape)\n",
    "print(test_x_eng_with_KNN_TSNE_Kmean.shape)\n",
    "print(train_x_log_eng_with_KNN_TSNE_KMean.shape)\n",
    "print(test_x_log_eng_with_KNN_TSNE_Kmean.shape)\n",
    "\n",
    "# Label dataset\n",
    "print(train_y_class.shape)\n",
    "print(train_y_label.shape)"
   ]
  }
 ],
 "metadata": {
  "kernelspec": {
   "display_name": "Python 3",
   "language": "python",
   "name": "python3"
  },
  "language_info": {
   "codemirror_mode": {
    "name": "ipython",
    "version": 3
   },
   "file_extension": ".py",
   "mimetype": "text/x-python",
   "name": "python",
   "nbconvert_exporter": "python",
   "pygments_lexer": "ipython3",
   "version": "3.7.3"
  }
 },
 "nbformat": 4,
 "nbformat_minor": 2
}
